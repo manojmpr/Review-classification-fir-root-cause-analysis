{
  "cells": [
    {
      "cell_type": "markdown",
      "id": "8eXuMXvTmeO9",
      "metadata": {
        "id": "8eXuMXvTmeO9"
      },
      "source": [
        "**1. Load all Libraries**"
      ]
    },
    {
      "cell_type": "code",
      "execution_count": 129,
      "id": "3ffc7cb5",
      "metadata": {
        "id": "3ffc7cb5"
      },
      "outputs": [],
      "source": [
        "\n",
        "#loading the unprocessed data\n",
        "import pandas as pd\n",
        "import matplotlib.pyplot as plt\n",
        "import seaborn as sns\n",
        "import numpy as np\n",
        "import nltk\n",
        "from google.colab import drive\n",
        "from sklearn.feature_extraction.text import CountVectorizer, TfidfVectorizer\n",
        "from sklearn.pipeline import FeatureUnion\n",
        "import re\n",
        "import string\n",
        "from scipy.sparse import hstack, csr_matrix\n",
        "from sklearn.model_selection import train_test_split\n",
        "from sklearn.linear_model import RidgeClassifier\n",
        "from sklearn.metrics import accuracy_score\n",
        "from sklearn import model_selection, naive_bayes, svm\n",
        "from sklearn.naive_bayes import GaussianNB\n",
        "from sklearn.ensemble import RandomForestClassifier\n",
        "import os\n",
        "     "
      ]
    },
    {
      "cell_type": "markdown",
      "id": "KwelsMVCmh11",
      "metadata": {
        "id": "KwelsMVCmh11"
      },
      "source": [
        "**2. Load dataset and generate train and test dataset**"
      ]
    },
    {
      "cell_type": "code",
      "execution_count": 130,
      "id": "0b487ab2",
      "metadata": {
        "id": "0b487ab2"
      },
      "outputs": [],
      "source": [
        "df = pd.read_excel('Assignment 3.xlsx')\n",
        "df['label'] = df['label'].map({'restaurant': 1, 'movie': 0 })\n",
        "df_test=pd.concat([df.iloc[400:501],df.iloc[901:1000]])\n",
        "df_train=pd.concat([df.iloc[0:400],df.iloc[500:900]])\n",
        "     "
      ]
    },
    {
      "cell_type": "markdown",
      "id": "nItVrgUamqaM",
      "metadata": {
        "id": "nItVrgUamqaM"
      },
      "source": [
        "**3. Create corpus, Lemmatize, remove stopwords and punctuations for train dataset**"
      ]
    },
    {
      "cell_type": "code",
      "execution_count": 131,
      "id": "Fe0VrbD1WMBM",
      "metadata": {
        "id": "Fe0VrbD1WMBM"
      },
      "outputs": [],
      "source": [
        "corpus=[] #Create an empty list\n",
        "for i in df_train['review']: #Use a for loop to tokenize each review in the collection\n",
        "    corpus.append(nltk.word_tokenize(i)) #append each tokenized review as a list to the empty list\n",
        "\n",
        "lemma=[] #create an empty list\n",
        "lemmatizer = nltk.stem.WordNetLemmatizer() #intialize the WordLemmatizer\n",
        "for token in corpus: #For loop to access the outer list\n",
        "    lemmatized_token = [lemmatizer.lemmatize(item.lower()) for item in token]\n",
        "#lemmatize each word in the inner list after converting them to lower case\n",
        "    lemma.append(lemmatized_token) #Append each lemmatized list of words to the empty list\n",
        "  \n",
        "from nltk.corpus import stopwords #import stopwords from nltk.corpus\n",
        "final=[] #create an empty list\n",
        "for word in lemma:\n",
        "    stop_words_removed = [i for i in word if i not in stopwords.words('english') if i.isalnum()] # filter out stopwords and retain only alphanumeric characters\n",
        "    final.append(stop_words_removed) #append the final list of lemmatized, stopwords removed , alpha numeric words of a given review to the empty list\n",
        "\n",
        "tfidf_list=[] \n",
        "for i in final:\n",
        "    aud=\" \".join(i)\n",
        "    tfidf_list.append(aud) \n",
        "\n"
      ]
    },
    {
      "cell_type": "markdown",
      "id": "dyhJUAl3nAWE",
      "metadata": {
        "id": "dyhJUAl3nAWE"
      },
      "source": [
        "**4. Generate TFIDF Text representation with mindf=5 and including bigrams for the train dataset**"
      ]
    },
    {
      "cell_type": "code",
      "execution_count": 223,
      "id": "3NvqQxqTZl6w",
      "metadata": {
        "id": "3NvqQxqTZl6w"
      },
      "outputs": [],
      "source": [
        "df_train['cleaned_review']=tfidf_list\n",
        "labels=list(df_train['label'])"
      ]
    },
    {
      "cell_type": "code",
      "execution_count": 224,
      "id": "yBEum7E8as1W",
      "metadata": {
        "colab": {
          "base_uri": "https://localhost:8080/"
        },
        "id": "yBEum7E8as1W",
        "outputId": "e0887d72-62c0-42fc-98d8-c1ecc2b97570"
      },
      "outputs": [
        {
          "name": "stdout",
          "output_type": "stream",
          "text": [
            "[[0.         0.         0.         ... 0.         0.         0.        ]\n",
            " [0.         0.         0.         ... 0.         0.         0.        ]\n",
            " [0.16308083 0.07648077 0.         ... 0.         0.         0.        ]\n",
            " ...\n",
            " [0.         0.         0.         ... 0.         0.         0.        ]\n",
            " [0.         0.         0.         ... 0.         0.         0.        ]\n",
            " [0.         0.         0.         ... 0.         0.         0.        ]]\n",
            "{'shop': 4157, 'restaurant': 3861, 'soi': 4279, 'road': 3917, 'inside': 2338, 'hotel': 2226, 'decorated': 1128, 'style': 4468, 'white': 5116, 'wall': 5039, 'glass': 1930, 'table': 4555, 'red': 3763, 'chair': 725, 'floor': 1759, 'dim': 1224, 'light': 2593, 'open': 3128, 'night': 3046, 'romantic': 3931, 'atmosphere': 362, 'duck': 1328, '39': 46, 'orange': 3140, 'pork': 3382, 'french': 1830, 'onion': 3126, 'soup': 4302, 'average': 394, 'price': 3440, 'baht': 417, 'food': 1773, 'review': 3888, 'breast': 598, 'sliced': 4237, 'piece': 3318, 'tender': 4627, 'stuffed': 4464, 'wrapped': 5193, 'thin': 4651, 'baked': 424, 'serve': 4103, 'sauce': 3998, 'roll': 3928, 'vegetable': 4938, 'dough': 1296, 'much': 2966, 'delicious': 1150, 'sweet': 4537, 'taste': 4580, 'cheese': 757, 'scallop': 4019, 'thick': 4649, 'cream': 1024, 'toast': 4734, 'eat': 1349, 'together': 4741, 'score': 4036, 'topic': 4758, 'lt': 2732, 'gt': 2036, 'nice': 3044, 'service': 4105, 'good': 1959, 'recommendation': 3755, 'value': 4927, 'quite': 3541, 'expensive': 1521, 'ordered': 3145, 'original': 3153, 'special': 4323, 'conclusion': 928, 'three': 4681, 'half': 2096, 'star': 4375, 'note': 3065, 'personal': 3292, 'use': 4917, 'like': 2596, 'please': 3353, 'forgive': 1799, 'think': 4657, 'one': 3108, 'comment': 886, 'win': 5130, 'competition': 905, 'thank': 4639, 'restaurant decorated': 3862, 'average price': 395, 'price baht': 3441, 'sweet taste': 4543, 'eat together': 1362, 'topic lt': 4759, 'gt atmosphere': 2037, 'lt food': 2733, 'food taste': 1781, 'gt lt': 2038, 'lt service': 2734, 'service gt': 4108, 'good service': 1987, 'service good': 4107, 'good food': 1968, 'lt value': 2735, 'price quite': 3445, 'atmosphere good': 363, 'good delicious': 1964, 'delicious food': 1154, 'like please': 2609, 'please forgive': 3355, 'forgive think': 1800, 'think one': 4663, 'one comment': 3111, 'comment win': 887, 'win competition': 5131, 'good restaurant': 1986, 'store': 4421, 'year': 5219, 'first': 1724, 'time': 4704, 'try': 4822, 'located': 2659, 'sukhumvit': 4496, 'middle': 2890, 'rama': 3688, 'american': 274, 'steak': 4392, 'outside': 3163, 'bangkok': 435, 'country': 1003, 'cuisine': 1059, 'spare': 4318, 'rib': 3891, 'main': 2758, 'home': 2203, 'beer': 469, 'bottle': 576, 'served': 4104, 'bean': 454, 'bread': 593, 'thb': 4641, 'medium': 2852, 'rare': 3692, 'chicken': 775, 'wing': 5135, 'best': 492, 'spicy': 4337, 'offline': 3096, 'fan': 1588, 'long': 2669, 'wooden': 5160, 'united': 4894, 'state': 4383, 'enough': 1429, 'money': 2927, 'summary': 4498, 'sell': 4082, 'almost': 231, 'three year': 4687, 'first time': 1734, 'time try': 4724, 'restaurant located': 3868, 'located soi': 2660, 'spicy taste': 4338, 'united state': 4895, 'good enough': 1966, 'value money': 4928, 'three star': 4685, 'roast': 3919, 'coffee': 853, 'amp': 279, 'thonglor': 4671, 'second': 4052, 'size': 4227, 'around': 333, '10': 0, 'wine': 5134, 'hanging': 2112, 'chic': 774, 'black': 533, 'see': 4062, 'menu': 2871, 'newspaper': 3036, 'look': 2673, 'picture': 3316, 'photography': 3309, 'reason': 3739, 'want': 5042, 'better': 501, 'brunch': 624, 'dinner': 1226, 'back': 405, 'evening': 1476, 'go': 1938, 'considered': 951, 'recommended': 3756, 'leg': 2547, 'deliciousness': 1165, 'dish': 1251, 'soft': 4276, 'also': 237, 'sour': 4303, 'perfect': 3275, 'recommend': 3754, 'ham': 2102, 'unusual': 4908, 'top': 4756, 'people': 3240, 'volume': 4972, 'large': 2501, 'plate': 3343, 'seafood': 4046, 'spaghetti': 4317, 'tomato': 4749, 'smell': 4252, 'personally': 3296, 'common': 894, 'italian': 2401, 'doe': 1273, 'stand': 4372, 'lot': 2696, 'strawberry': 4443, 'waffle': 5027, 'honey': 2208, 'overall': 3168, 'feel': 1619, 'general': 1889, 'cheap': 753, 'cost': 995, 'ha': 2053, 'vat': 4937, 'beauty': 462, 'water': 5079, 'small': 4245, 'drink': 1315, '40': 133, 'usually': 4924, 'way': 5082, 'make': 2769, 'imported': 2286, 'thai': 4636, 'usual': 4923, 'see menu': 4064, 'menu like': 2875, 'look good': 2678, '39 good': 78, 'want eat': 5043, 'eat restaurant': 1357, 'menu recommended': 2877, 'sauce 39': 3999, '39 delicious': 56, 'delicious 39': 1151, 'delicious sweet': 1163, 'sweet sour': 4541, 'people like': 3251, 'like eat': 2600, 'personally think': 3297, 'italian restaurant': 2402, 'see people': 4065, 'people eat': 3246, 'eat lot': 1353, 'like drink': 2599, '10 baht': 1, 'way make': 5084, 'make feel': 2772, 'child': 777, 'opposite': 3137, 'new': 3030, 'wa': 4975, 'moved': 2951, 'side': 4182, 'field': 1644, 'present': 3425, 'two': 4842, 'area': 326, 'another': 295, 'brother': 616, 'near': 3009, 'old': 3103, 'although': 254, 'recipe': 3750, 'ancestor': 282, 'flavor': 1752, 'feature': 1617, 'chinese': 789, 'herb': 2161, 'improved': 2293, 'unique': 4892, 'surprised': 4519, 'different': 1215, 'kind': 2454, 'match': 2830, 'sweetness': 4545, 'salty': 3983, 'cook': 983, 'type': 4860, 'meat': 2848, 'start': 4379, 'pot': 3401, 'careful': 694, 'true': 4817, 'brother 39': 617, 'food eat': 1776, 'branch': 590, 'concentrated': 923, 'told': 4744, 'many': 2802, 'bigger': 514, 'idea': 2256, 'add': 190, 'stick': 4399, 'final': 1707, 'answer': 299, 'order': 3141, 'car': 689, 'park': 3197, 'front': 1854, 'straight': 4438, 'think good': 4661, 'good idea': 1971, 'delicious dish': 1153, 'front shop': 1855, 'japanese': 2412, 'buffet': 633, 'opened': 3130, 'business': 651, 'district': 1264, 'break': 594, 'lunch': 2739, 'work': 5164, 'often': 3097, 'staff': 4362, 'always': 263, 'hang': 2111, 'reasonable': 3740, 'tell': 4613, 'clean': 825, 'comfortable': 882, 'seat': 4050, 'cool': 988, 'room': 3933, 'sit': 4218, 'pretty': 3435, 'ever': 1479, 'location': 2661, 'building': 636, '2nd': 38, 'added': 191, 'beef': 468, 'sea': 4044, 'today': 4735, 'per': 3272, 'person': 3287, 'net': 3026, 'boiling': 557, 'cooked': 984, 'mixed': 2914, 'well': 5101, 'suitable': 4495, 'cooking': 986, 'boiled': 556, 'fresh': 1832, 'color': 867, 'sticky': 4400, 'mouth': 2949, 'dipping': 1227, 'attracted': 376, 'sesame': 4111, 'point': 3366, 'air': 221, 'speak': 4320, 'high': 2174, 'compared': 901, 'variety': 4933, 'available': 391, 'choose': 798, 'text': 4634, 'rating': 3696, 'opinion': 3134, 'come': 874, 'lucky': 2738, 'go store': 1943, '2nd floor': 39, 'today eat': 4737, 'baht per': 420, 'sweet delicious': 4539, 'delicious taste': 1164, 'dipping sauce': 1228, 'also good': 241, 'good 39': 1960, 'sauce sweet': 4004, 'delicious like': 1156, 'like taste': 2613, 'overall taste': 3169, 'service staff': 4109, 'personal opinion': 3294, 'please come': 3354, 'place': 3332, 'love': 2700, 'dessert': 1191, 'anyway': 307, 'ago': 217, 'missed': 2906, 'due': 1329, 'sudden': 4484, 'lightly': 2595, 'determined': 1202, 'get': 1903, 'early': 1341, 'particular': 3206, 'call': 671, 'ask': 353, 'closed': 839, 'door': 1292, 'read': 3707, 'band': 433, 'suddenly': 4485, 'talk': 4570, 'cute': 1078, 'mood': 2931, 'family': 1581, 'lover': 2726, 'relaxing': 3797, 'addition': 193, 'let': 2557, 'say': 4011, 'disappointed': 1241, 'coming': 885, 'chance': 730, 'return': 3877, 'another place': 297, 'many people': 2808, 'people love': 3254, 'love eat': 2706, 'long ago': 2670, 'sit table': 4220, 'good time': 1991, 'let 39': 2558, '39 say': 113, 'full': 1862, 'fusion': 1871, 'quot': 3548, '130': 9, 'hot': 2224, 'crushed': 1055, 'frame': 1823, 'dry': 1325, 'crisp': 1041, 'especially': 1457, '240': 32, 'stew': 4398, 'carrot': 698, 'fish': 1737, 'okay': 3102, 'next': 3037, 'menu quot': 2876, 'quot say': 3644, 'baht quot': 421, 'outside frame': 3164, 'taste like': 4584, 'dish delicious': 1252, 'delicious delicious': 1152, 'pork rib': 3385, '240 baht': 33, 'food price': 1779, 'next time': 3041, 'another menu': 296, 'good atmosphere': 1961, 'hat': 2133, 'lived': 2650, 'know': 2470, 'found': 1814, 'doe know': 1274, 'know restaurant': 2476, 'pizza': 3331, 'cut': 1077, 'slice': 4236, 'used': 4919, 'take': 4560, 'bite': 529, 'ok': 3101, 'contemporary': 961, 'spinach': 4339, 'bacon': 410, 'called': 672, 'meal': 2842, 'choice': 796, 'may': 2839, 'hero': 2162, 'compare': 900, 'last': 2505, 'response': 3856, 'friend': 1847, 'starred': 4377, 'speed': 4331, 'opportunity': 3136, 'today 39': 4736, 'good choice': 1963, 'good eat': 1965, 'like like': 2603, 'taste good': 4583, 'eat meat': 1355, 'friend eat': 1849, 'quite good': 3542, 'good price': 1982, 'sushi': 4525, 'zone': 5271, 'hundred': 2243, 'word': 5161, 'little': 2639, 'raw': 3700, 'promotion': 3480, 'set': 4112, 'reduce': 3765, '50': 135, 'worth': 5185, 'inexpensive': 2316, 'grilled': 2026, 'rice': 3892, 'name': 2993, 'remember': 3810, 'writing': 5198, 'tongue': 4752, 'smile': 4253, 'extreme': 1549, 'texture': 4635, 'waiter': 5031, '250': 35, 'anything': 306, 'happy': 2120, 'raw fish': 3701, 'worth price': 5187, 'sauce delicious': 4000, 'dish like': 1253, 'much eat': 2969, 'soft delicious': 4277, '250 baht': 36, 'baht eat': 419, 'eat rice': 1358, '39 happy': 81, 'chef': 761, 'put': 3521, 'ice': 2253, 'boat': 554, 'however': 2230, 'follow': 1768, 'least': 2538, 'really': 3725, 'long time': 2671, 'thai restaurant': 4638, 'office': 3093, 'sitting': 4222, 'avoid': 396, 'le': 2530, 'beautiful': 458, 'decoration': 1129, 'eat lunch': 1354, 'great': 2014, 'lovely': 2725, 'yet': 5232, 'cake': 666, 'customer': 1076, 'quiet': 3539, 'busy': 654, 'charge': 746, 'without': 5143, 'source': 4307, 'green': 2020, 'scent': 4027, 'sheep': 4139, 'fry': 1859, 'fried': 1839, 'block': 543, 'salad': 3976, 'included': 2300, 'dressing': 1313, 'everyone': 1484, 'garlic': 1880, 'afraid': 212, 'big': 506, 'fight': 1647, 'deal': 1112, 'done': 1289, 'tasty': 4591, 'fear': 1616, 'lamb': 2496, 'noodle': 3057, 'hard': 2123, 'impressed': 2289, 'arrive': 340, 'sure': 4515, 'york': 5238, 'sold': 4281, 'weight': 5098, 'employee': 1406, '200': 24, 'wait': 5028, 'impressive': 2291, 'chocolate': 793, 'impress': 2288, 'eat cake': 1350, 'wa first': 4996, 'atmosphere restaurant': 364, 'good value': 1992, 'service charge': 4106, 'taste food': 4582, 'taste sour': 4587, 'sour sweet': 4305, 'make good': 2774, 'new york': 3033, 'chocolate cake': 794, 'think 39': 4658, 'idea good': 2257, 'chiang': 772, 'mai': 2757, 'must': 2985, 'already': 236, 'anyone': 305, 'save': 4006, 'milk': 2895, 'hungry': 2246, 'forget': 1797, 'photo': 3307, 'introduce': 2381, 'chiang mai': 773, 'eaten': 1365, 'mall': 2788, 'easy': 1348, 'find': 1713, 'would': 5190, 'remind': 3814, 'going': 1949, 'discount': 1244, 'check': 756, 'curry': 1072, '120': 6, 'butter': 656, 'shell': 4141, 'tom': 4747, 'yum': 5253, 'shrimp': 4174, 'real': 3717, 'oyster': 3172, 'ordinary': 3147, 'egg': 1378, 'lime': 2619, 'likely': 2617, 'day': 1104, 'fast': 1597, 'include': 2299, 'standard': 4373, 'find good': 1714, 'would like': 5191, '39 going': 77, 'like big': 2598, 'tom yum': 4748, 'fried fish': 1842, 'fish fish': 1739, 'fish sauce': 1741, 'shop 39': 4158, 'restaurant ha': 3867, 'like 39': 2597, '39 sure': 120, 'food menu': 1778, 'eat people': 1356, 'taste restaurant': 4586, 'restaurant good': 3866, 'neighborhood': 3020, 'cup': 1065, 'dumpling': 1332, 'rather': 3695, 'walk': 5034, 'blind': 541, 'noticed': 3069, 'obvious': 3087, 'satisfying': 3996, '39 great': 79, 'food delicious': 1775, 'wrong': 5200, 'queue': 3536, 'restaurant delicious': 3863, 'need': 3015, 'try eat': 4823, 'relax': 3794, 'brownie': 622, 'whipped': 5113, 'crepe': 1033, 'whipped cream': 5114, 'crepe cake': 1034, 'strawberry sauce': 4444, 'sweet sweet': 4542, 'tai': 4557, 'tourist': 4771, 'foreigner': 1793, 'music': 2982, 'mention': 2868, 'thing': 4652, 'feeling': 1623, 'keen': 2445, 'eye': 1551, 'life': 2575, 'line': 2626, 'ingredient': 2327, 'dried': 1314, 'stir': 4411, 'mix': 2913, 'liver': 2653, 'quality': 3530, 'eggplant': 1380, 'limited': 2622, 'card': 691, 'open music': 3129, 'feel like': 1621, 'good one': 1978, 'take look': 4562, 'thing make': 4654, 'make life': 2775, 'fried rice': 1845, 'rice noodle': 3894, 'expensive compared': 1522, 'food good': 1777, 'eat food': 1352, 'eat today': 1361, 'stir fried': 4412, 'fried pork': 1844, 'good quality': 1983, 'fresh shrimp': 1835, 'good taste': 1989, '39 want': 127, 'restaurant food': 3865, 'disadvantage': 1238, 'uncomfortable': 4873, 'food tasty': 1782, 'small shop': 4249, 'looking': 2683, 'mud': 2972, 'pie': 3317, 'lava': 2523, 'vanilla': 4931, 'bitter': 530, 'pancake': 3186, 'decorate': 1127, 'afternoon': 213, 'vanilla ice': 4932, 'ice cream': 2254, 'northern': 3063, 'la': 2489, 'parking': 3199, 'hard find': 2124, 'pan': 3185, 'spread': 4350, 'smoke': 4257, 'still': 4401, 'got': 1997, 'cockroach': 848, 'ran': 3690, 'nothing': 3066, 'placed': 3335, 'climbing': 835, 'report': 3831, 'leave': 2539, 'brought': 620, 'box': 582, 'trend': 4802, 'even': 1471, '39 try': 124, 'second time': 4055, 'time first': 4712, 'quot look': 3618, 'know know': 2473, 'better quot': 502, 'known': 2481, 'chili': 783, 'salt': 3980, 'ha unique': 2090, 'fast food': 1598, 'tea': 4594, 'cookie': 985, 'topped': 4760, 'cooky': 987, 'low': 2728, 'fragrant': 1822, 'course': 1009, '25': 34, 'couple': 1007, 'shou': 4166, 'green tea': 2021, 'price reasonable': 3446, 'tea ice': 4596, 'delicious price': 1158, 'per piece': 3273, 'topped chocolate': 4761, 'store ha': 4422, 'ha long': 2075, 'banana': 432, 'mostly': 2938, 'baking': 426, 'hole': 2196, 'later': 2512, 'eagle': 1338, 'changed': 732, 'crab': 1019, 'view': 4949, 'thai food': 4637, 'sit eat': 4219, 'enough eat': 1430, 'price may': 3444, 'visit': 4964, 'miss': 2905, 'whether': 5112, 'edge': 1370, 'right': 3904, 'took': 4754, 'lemon': 2552, 'yummy': 5254, 'mellow': 2856, 'listen': 2633, 'chill': 784, 'came': 675, 'bit': 526, 'running': 3952, 'beat': 456, 'wave': 5081, 'move': 2950, 'choose sit': 799, 'staff good': 4363, 'little bit': 2640, '555': 138, 'april': 324, 'winter': 5138, 'page': 3176, 'know think': 2477, 'go top': 1944, 'top page': 4757, 'normally': 3061, 'famous': 1587, 'cheesecake': 759, 'equally': 1449, 'definitely': 1144, 'cheese cake': 758, 'eat delicious': 1351, 'went': 5104, 'reservation': 3844, 'list': 2632, 'ramen': 3689, 'wongnai': 5158, 'elite': 1393, 'party': 3209, 'thanks': 4640, 'simply': 4201, 'entrance': 1444, 'enter': 1434, 'drive': 1319, 'end': 1410, 'currently': 1071, 'asia': 350, 'launched': 2522, '2012': 27, 'daily': 1087, 'pm': 3361, 'luxury': 2741, 'since': 4203, 'tree': 4800, 'late': 2511, 'every': 1480, 'balcony': 428, 'heart': 2142, 'wind': 5132, 'strong': 4451, 'interior': 2370, 'space': 4316, 'beautifully': 460, 'mask': 2825, 'corner': 992, 'material': 2832, 'live': 2647, 'eating': 1366, 'lobster': 2656, 'pepper': 3271, 'fit': 1743, 'share': 4134, 'become': 464, 'completely': 910, 'listening': 2635, 'based': 441, '70': 142, '30': 40, 'touch': 4766, 'fruit': 1857, 'parking lot': 3200, 'beautifully decorated': 461, 'raw material': 3702, 'live music': 2649, 'mashed': 2824, 'potato': 3402, 'biscuit': 525, 'give': 1922, 'chop': 802, 'shop ha': 4159, 'two side': 4852, 'side side': 4183, 'wait long': 5029, '39 little': 92, 'pork chop': 3383, '39 expensive': 63, '280': 37, 'aroma': 332, 'caesar': 662, 'crispy': 1042, 'salmon': 3979, 'sausage': 4005, 'bill': 518, 'big glass': 510, 'caesar salad': 663, 'baht delicious': 418, 'european': 1468, 'concept': 925, 'dining': 1225, 'highlight': 2181, 'village': 4956, 'house': 2228, 'post': 3397, 'station': 4385, 'etc': 1464, 'quot chocolate': 3571, 'ha brought': 2060, 'brown': 621, 'tone': 4751, 'colorful': 869, 'jelly': 2415, 'paste': 3222, 'bunch': 639, 'free': 1828, 'posted': 3398, '1st': 20, 'pineapple': 3325, 'expected': 1520, 'buy': 658, 'rest': 3859, 'soy': 4314, '20': 21, 'pink': 3326, 'paper': 3191, 'seed': 4067, 'flour': 1760, 'bring': 607, 'steamed': 4393, '5555': 139, 'advice': 206, 'spring': 4351, 'buy back': 659, '20 baht': 22, 'soon': 4294, 'cafe': 664, 'heavy': 2150, 'snack': 4262, 'prototype': 3495, 'genuine': 1897, 'soda': 4274, 'brand': 591, 'afford': 211, 'mother': 2939, 'left': 2543, 'normal': 3059, 'divided': 1267, 'part': 3201, 'peaceful': 3233, 'refreshing': 3776, 'also ha': 242, 'also many': 246, 'recommended menu': 3757, 'delicious shop': 1161, 'want find': 5044, 'similar': 4195, 'otherwise': 3161, 'island': 2399, 'delicious good': 1155, 'foot': 1785, 'international': 2372, 'sum': 4497, 'keep': 2446, 'moving': 2964, 'pick': 3312, 'mind': 2897, 'spending': 4335, 'waiting': 5032, 'fish fresh': 1740, 'soy sauce': 4315, 'crab fried': 1020, 'poor': 3378, 'maybe': 2840, 'songkran': 4293, 'bad': 411, 'sake': 3975, 'finished': 1719, 'gone': 1957, 'quite high': 3543, 'really want': 3737, 'want go': 5046, 'go home': 1940, 'go work': 1945, '39 make': 95, 'food wa': 1783, 'river': 3915, 'chao': 735, 'national': 3003, 'library': 2571, 'convenient': 978, 'bright': 603, 'retro': 3876, 'yellow': 5229, 'chewing': 770, 'smoked': 4258, 'pig': 3322, 'roasted': 3920, 'fermented': 1641, 'soaked': 4270, 'oil': 3099, 'greasy': 2013, 'salted': 3981, 'two part': 4850, 'food restaurant': 1780, 'smoked salmon': 4259, 'fried chicken': 1840, 'meat soft': 2849, 'salted egg': 3982, 'owner': 3171, 'friendly': 1852, 'welcome': 5100, 'else': 1394, 'quick': 3537, 'case': 701, 'single': 4210, 'oh': 3098, 'porridge': 3386, 'one time': 3123, 'sure case': 4516, 'single dish': 4212, 'pickled': 3315, 'pork leg': 3384, 'finally': 1709, 'decided': 1123, 'contains': 960, 'bowl': 581, 'time finally': 4711, 'price high': 3443, 'favorite': 1615, 'siam': 4178, 'somtum': 4290, 'felt': 1629, 'group': 2029, 'shopping': 4161, 'yes': 5230, 'cat': 706, 'pure': 3510, 'simple': 4198, 'poster': 3399, 'japan': 2411, 'show': 4169, 'skill': 4228, 'made': 2747, 'five': 1744, 'clock': 837, 'intention': 2362, 'head': 2136, 'worked': 5168, 'province': 3500, 'carried': 696, 'directly': 1232, 'pumpkin': 3509, 'mushroom': 2981, 'protagonist': 3488, 'tale': 4567, 'adding': 192, 'deep': 1133, 'straightforward': 4439, 'fire': 1720, 'tofu': 4740, 'separate': 4094, 'broth': 615, 'number': 3077, 'tomorrow': 4750, 'juice': 2435, 'squeeze': 4358, 'yogurt': 5235, 'squid': 4359, 'various': 4934, 'freshly': 1837, 'brewed': 601, 'starting': 4381, 'authentic': 385, 'fun': 1865, 'many year': 2812, 'year ago': 5221, 'get together': 1908, 'always ha': 266, '39 clock': 55, 'people come': 3245, 'ha worked': 2091, '20 year': 23, '39 see': 114, 'deep fried': 1134, 'want order': 5049, 'end quot': 1412, 'quot new': 3630, 'eat well': 1364, 'also available': 238, 'food 39': 1774, 'great place': 2015, 'really good': 3731, 'turmoil': 4827, 'guest': 2045, 'modern': 2922, 'east': 1346, 'surrounded': 4521, 'pool': 3377, 'host': 2221, 'invited': 2392, 'private': 3456, 'sense': 4087, 'team': 4601, 'blood': 545, 'childhood': 781, 'experience': 1523, 'making': 2781, 'joined': 2426, 'create': 1026, 'selection': 4079, 'world': 5173, 'france': 1825, 'combine': 872, 'interesting': 2369, 'girl': 1916, '360': 45, 'change': 731, 'tip': 4729, 'perfectly': 3277, 'mango': 2797, 'laid': 2494, 'everything': 1490, 'charming': 749, 'villa': 4955, 'city': 812, 'sunday': 4501, 'monday': 2926, 'around world': 334, 'girl quot': 1919, 'fresh vegetable': 1836, 'quot like': 3615, 'sour taste': 4306, 'month': 2930, 'close': 838, 'ball': 430, 'care': 692, 'condition': 930, 'opening': 3131, 'turn': 4828, 'project': 3475, 'cold': 857, 'iced': 2255, 'cocoa': 850, 'morning': 2936, 'glory': 1935, 'coffee shop': 854, 'tea coffee': 4595, 'chew': 769, 'rarely': 3693, 'seen': 4075, 'summer': 4499, 'stay': 4388, 'book': 561, 'sweet hot': 4540, 'escape': 1455, 'rain': 3684, 'smiling': 4255, 'sorry': 4298, 'mistake': 2909, 'slow': 4242, 'fried garlic': 1843, 'delicious menu': 1157, 'lot people': 2697, 'people may': 3255, 'tasting': 4590, 'good place': 1981, 'place eat': 3333, '100': 2, 'machine': 2745, 'broken': 614, 'bear': 455, 'became': 463, 'popular': 3380, 'adult': 197, 'birth': 523, 'born': 571, 'president': 3428, 'unfortunately': 4886, 'hurt': 2250, 'pity': 3329, 'refused': 3778, 'shoot': 4154, 'story': 4424, 'inspiration': 2342, 'rose': 3937, 'doll': 1281, 'innocent': 2335, 'standing': 4374, 'action': 177, 'play': 3345, 'beginning': 472, 'rich': 3895, 'ancient': 284, 'street': 4446, 'wang': 5041, '22': 29, 'baby': 404, 'gesture': 1902, 'cartoon': 700, 'disney': 1255, 'pixar': 3330, 'animation': 293, 'studio': 4461, 'game': 1874, 'antique': 302, 'bicycle': 504, 'started': 4380, 'collection': 861, 'america': 273, 'europe': 1467, 'comic': 884, 'said': 3971, 'familiar': 1580, 'young': 5239, 'letter': 2565, 'several': 4115, 'bakery': 425, 'powder': 3405, 'bubble': 628, '15': 10, 'face': 1553, 'homemade': 2204, 'sugar': 4491, 'clear': 827, 'mountain': 2946, 'instead': 2348, 'hair': 2095, 'bang': 434, 'step': 4395, 'ground': 2027, 'horse': 2219, 'filmed': 1704, 'rented': 3824, 'prop': 3481, 'meet': 2853, 'clothes': 843, 'toy': 4776, 'wa born': 4985, 'day wa': 1107, 'wa big': 4983, 'ha made': 2077, 'made lot': 2749, 'front store': 1856, '39 like': 91, '39 take': 121, 'cup coffee': 1066, 'drink coffee': 1316, 'quot sweet': 3655, 'cake soft': 670, 'doe like': 1275, 'take care': 4561, 'meet need': 2854, 'sister': 4216, 'away': 402, 'bird': 521, 'candle': 680, 'golden': 1952, 'packed': 3175, 'giant': 1912, 'snow': 4268, 'mentioned': 2869, 'never': 3028, 'tried': 4809, 'root': 3935, 'hong': 2209, 'kong': 2482, 'know 39': 2471, 'love much': 2716, 'hong kong': 2210, 'including': 2301, 'routine': 3943, 'far': 1592, 'reached': 3705, 'today ordered': 4738, 'menu delicious': 2873, 'wa impressed': 5003, 'wa good': 5001, 'success': 4481, 'order quot': 3144, 'mussel': 2984, 'zealand': 5257, 'ink': 2332, 'chemical': 762, 'repeat': 3826, 'new zealand': 3034, 'terrible': 4631, 'plain': 3337, 'focus': 1766, 'fresh seafood': 1834, 'floating': 1758, 'cage': 665, 'ride': 3899, 'violent': 4960, 'king': 2462, 'different kind': 1216, 'option': 3139, 'played': 3348, 'fried shrimp': 1846, 'cheat': 754, 'take picture': 4563, 'come back': 875, 'crab meat': 1021, 'quite lot': 3546, 'saturday': 3997, 'recently': 3749, 'shed': 4137, 'exotic': 1517, 'consistent': 953, 'really delicious': 3728, 'festival': 1642, 'travel': 4794, 'returning': 3879, 'rush': 3954, 'traditional': 4779, 'flag': 1747, 'heard': 2140, 'sound': 4300, 'blow': 550, 'wood': 5159, 'weather': 5092, 'noon': 3058, 'shame': 4129, 'strange': 4440, 'gold': 1951, 'father': 1603, 'tired': 4730, 'comfortably': 883, 'wilderness': 5128, 'tall': 4573, 'dressed': 1312, 'casual': 705, 'gradually': 2001, 'row': 3944, 'panic': 3187, 'cucumber': 1058, 'smooth': 4260, 'bamboo': 431, 'bold': 558, 'lose': 2689, 'coconut': 851, 'followed': 1769, 'fillet': 1655, 'fragrance': 1821, 'remove': 3819, 'chose': 804, 'best way': 497, 'two story': 4853, 'feel good': 1620, 'decoration shop': 1130, 'people much': 3256, 'order food': 3142, 'vegetable vegetable': 4939, 'like much': 2607, 'much 39': 2967, 'large piece': 2503, 'shrimp paste': 4175, 'fish fillet': 1738, 'sauce good': 4002, 'lemon juice': 2553, '39 okay': 104, 'eat two': 1363, 'high enough': 2176, 'third': 4668, 'beach': 453, 'item': 2403, 'pas': 3210, 'bass': 445, '150': 11, 'filling': 1656, 'six': 4226, '170': 12, 'hey': 2170, 'serving': 4110, 'seasoning': 4049, 'holiday': 2197, 'season': 4048, 'third time': 4669, 'new year': 3032, 'last year': 2510, 'sea bass': 4045, 'taste delicious': 4581, '200 baht': 25, 'curry powder': 1073, 'stir fry': 4413, 'every time': 1482, 'layer': 2527, 'atmosphere shop': 365, '500': 136, 'reduced': 3766, 'quantity': 3533, 'snail': 4263, 'rabbit': 3682, 'difficult': 1217, 'whole': 5118, 'watch': 5071, 'shrimp shrimp': 4176, 'difficult find': 1218, 'good like': 1975, '39 eat': 59, 'choosing': 801, 'circle': 810, 'sofa': 4275, 'minute': 2902, 'rise': 3912, 'previous': 3437, 'period': 3283, 'product': 3466, 'detail': 1197, 'according': 166, '55': 137, '110': 4, 'royal': 3945, 'almond': 230, '80': 144, 'dark': 1095, 'apple': 316, 'mocha': 2918, 'stop': 4419, 'buying': 660, 'current': 1070, 'relatively': 3793, 'amount': 278, 'time come': 4708, 'every day': 1481, 'first day': 1725, 'time many': 4717, 'know many': 2474, 'taste sweet': 4589, 'cream delicious': 1025, 'time 39': 4705, '120 baht': 7, 'people say': 3262, 'selling': 4083, 'super': 4504, 'rice crab': 3893, 'many menu': 2805, 'level': 2567, 'kung': 2487, 'sometimes': 4288, 'power': 3406, 'presentation': 3426, 'sale': 3978, 'respectively': 3855, 'typical': 4862, 'ha many': 2078, 'want try': 5056, 'cocktail': 849, 'stopped': 4420, 'shocking': 4152, 'guarantee': 2040, 'named': 2995, 'problem': 3459, 'filled': 1654, 'alone': 233, 'expect': 1518, 'bottom': 577, 'manner': 2800, 'glance': 1929, 'begin': 471, 'meticulous': 2886, 'sip': 4215, 'concentration': 924, 'intensity': 2361, 'bag': 416, 'reverse': 3886, 'fascinated': 1595, 'fatigue': 1612, 'stomach': 4416, 'attention': 373, 'medicine': 2851, 'throughout': 4693, 'fat': 1600, 'legendary': 2551, 'prepare': 3422, '39 house': 86, 'time ago': 4706, 'place quot': 3334, 'go back': 1939, 'first glance': 1727, 'ordered today': 3146, 'today try': 4739, '39 really': 110, 'thing quot': 4656, 'eat shop': 1359, '39 head': 83, '39 hard': 82, '300': 43, 'make money': 2777, 'unlike': 4900, 'phaholyothin': 3300, 'completed': 909, 'label': 2490, 'pro': 3457, 'pay': 3228, 'grill': 2025, 'written': 5199, 'snake': 4264, 'chopped': 803, 'ready': 3716, 'tamarind': 4574, 'many good': 2804, 'meter': 2884, 'resort': 3851, 'guess': 2042, 'mosquito': 2937, 'willing': 5129, 'hit': 2190, 'notice': 3068, 'flowing': 1763, 'clam': 819, 'lost': 2694, 'waste': 5070, 'information': 2326, 'far away': 1593, 'wa enough': 4994, 'taste spicy': 4588, 'two people': 4851, '39 look': 93, 'site': 4221, 'god': 1947, 'empty': 1407, 'huge': 2235, 'hour': 2227, 'arrived': 341, 'blue': 551, '60': 140, 'hurry': 2249, 'vacation': 4925, 'week': 5094, 'half hour': 2098, 'piece quot': 3320, 'price expensive': 3442, 'blame': 535, 'fair': 1569, 'held': 2153, 'topping': 4762, 'signature': 4187, 'talking': 4572, 'thought': 4674, 'activity': 181, 'friend 39': 1848, 'well 39': 5102, 'thought would': 4676, 'walked': 5037, 'double': 1294, 'dog': 1279, 'warm': 5066, 'equipment': 1450, 'healthy': 2138, 'environment': 1445, 'coffee tea': 855, 'improve': 2292, 'slightly': 4238, 'market': 2816, 'traveling': 4795, 'working': 5171, 'depends': 1171, 'back eat': 406, 'maybe 39': 2841, 'left right': 2545, 'prominent': 3476, 'approach': 322, 'alley': 226, 'sign': 4186, 'stair': 4366, 'lift': 2592, 'parked': 3198, 'ticket': 4699, 'like wa': 2614, 'girlfriend': 1921, 'introduced': 2382, 'local': 2657, 'train': 4784, 'tower': 4774, 'read review': 3710, 'delicious really': 1159, 'seems': 4074, 'past': 3217, 'kitchen': 2465, 'concentrate': 922, 'past year': 3220, 'boyfriend': 587, 'design': 1185, 'menu ha': 2874, 'cake delicious': 668, 'good good': 1970, 'people really': 3261, 'finish': 1718, 'hate': 2134, '39 salty': 112, 'classic': 821, 'burn': 644, 'burning': 646, 'silver': 4194, 'satisfied': 3994, 'control': 976, 'candy': 681, 'secretly': 4059, 'cleanliness': 826, 'two thing': 4854, 'thing people': 4655, 'good friend': 1969, 'decor': 1126, 'berry': 490, 'delicious sauce': 1160, 'excellent': 1501, '180': 14, 'pasta': 3221, 'melt': 2858, 'code': 852, 'menu choose': 2872, '180 baht': 15, 'sauce like': 4003, 'delicious shrimp': 1162, '60 baht': 141, 'garden': 1879, 'pleasant': 3352, 'sauce eat': 4001, 'first part': 1730, 'crossed': 1047, 'eight': 1381, 'ginger': 1915, 'paid': 3177, 'ha set': 2085, 'wa full': 4998, 'gave': 1886, 'disappear': 1239, 'wrote': 5201, 'write': 5194, 'bts': 627, 'chong': 797, 'wide': 5125, 'range': 3691, 'forgot': 1802, 'either': 1384, 'spend': 4333, 'western': 5108, 'several time': 4117, 'last time': 2509, 'quot atmosphere': 3557, 'spend money': 4334, '39 bad': 48, 'user': 4921, 'profile': 3470, 'send': 4085, 'message': 2880, 'hokkaido': 2193, '13': 8, 'indeed': 2305, 'spoil': 4345, 'confused': 938, 'raised': 3687, 'serious': 4100, 'worry': 5181, 'total': 4765, 'like sauce': 2612, 'star star': 4376, 'people still': 3265, '24': 30, 'moderate': 2921, '24 hour': 31, 'appreciate': 319, 'reality': 3722, 'mean': 2843, 'hand': 2105, 'calm': 674, 'relaxed': 3796, 'among': 277, 'central': 718, 'major': 2767, 'spinning': 4340, 'immediately': 2276, 'stepped': 4397, 'mom': 2923, 'proud': 3496, 'event': 1477, 'charm': 748, 'forward': 1812, 'important': 2283, 'influenced': 2325, 'constantly': 956, 'sun': 4500, 'statue': 4386, 'arranged': 336, 'angle': 288, 'secret': 4058, 'discover': 1245, 'indulge': 2311, 'passed': 3212, 'tuna': 4826, 'body': 555, 'ended': 1415, 'balance': 427, 'pair': 3182, 'enjoy': 1427, 'help': 2155, 'mission': 2908, 'peace': 3232, 'doe mean': 1277, 'life always': 2578, 'walk away': 5036, 'outside world': 3165, 'shop quot': 4160, 'looking forward': 2685, 'quot made': 3620, 'various angle': 4935, 'time ha': 4713, 'ha passed': 2082, 'cake quot': 669, 'quot ha': 3602, 'inner': 2333, 'vast': 4936, '11': 3, 'stupid': 4466, 'people time': 3267, 'much like': 2970, '39 go': 76, 'gate': 1882, 'invaded': 2384, 'jia': 2417, 'fine': 1716, 'korean': 2486, 'neck': 3014, 'drinking': 1317, 'victory': 4947, 'ha lot': 2076, 'drinking water': 1318, '2013': 28, 'surprise': 4518, 'satay': 3991, 'worst': 5184, 'soil': 4280, 'time people': 4718, 'word quot': 5163, 'beloved': 487, 'ideal': 2258, 'speaks': 4322, 'brutal': 626, 'creation': 1029, 'nine': 3049, 'joint': 2427, 'camp': 678, 'across': 173, 'something': 4287, 'hear': 2139, 'song': 4292, 'round': 3941, 'china': 786, 'designed': 1186, 'cabinet': 661, 'maintain': 2766, 'health': 2137, 'plus': 3360, 'yolk': 5236, 'yesterday': 5231, 'combined': 873, 'skin': 4229, 'inserted': 2337, 'float': 1757, 'extra': 1546, 'leaf': 2534, 'chrysanthemum': 807, 'grass': 2009, 'member': 2859, 'papaya': 3189, 'center': 717, 'region': 3785, 'quot another': 3556, 'people want': 3269, 'china 39': 787, 'chinese people': 791, 'like eating': 2601, 'quot still': 3652, 'also quot': 248, 'feel little': 1622, 'family member': 1585, 'papaya salad': 3190, 'dragon': 1302, 'disappointing': 1242, 'always think': 268, 'little price': 2643, 'see many': 4063, 'cash': 702, 'funny': 1870, 'mummy': 2974, 'zombie': 5270, 'shape': 4131, 'bizarre': 532, 'anywhere': 308, 'shake': 4125, 'actually': 186, 'creative': 1030, 'one like': 3117, 'many thing': 2810, 'never seen': 3029, 'living': 2654, 'robot': 3925, 'republic': 3836, 'court': 1012, 'walking': 5038, 'hui': 2236, 'study': 4462, 'learn': 2535, 'decide': 1122, 'decision': 1124, 'matter': 2833, 'asks': 356, 'trapped': 4793, 'diet': 1213, 'one day': 3112, 'wa time': 5021, 'restaurant first': 3864, 'first one': 1729, 'one wa': 3124, '39 39': 47, 'wa afraid': 4978, 'animal': 290, 'hot chocolate': 2225, 'sweet chocolate': 4538, 'school': 4029, 'luck': 2737, 'news': 3035, 'sprinkle': 4352, 'wet': 5109, 'attached': 366, 'dream': 1310, 'high school': 2178, 'want see': 5052, 'good luck': 1976, 'sour sauce': 4304, 'behind': 478, 'besides': 491, 'fried egg': 1841, 'egg yolk': 1379, 'date': 1098, 'intended': 2359, 'compatible': 904, 'loved': 2723, 'saw': 4009, 'almost every': 232, 'burned': 645, 'hidden': 2171, 'along': 234, 'along way': 235, 'enough time': 1431, 'time wa': 4726, 'palace': 3183, 'really big': 3727, 'de': 1109, 'singer': 4208, 'tight': 4703, 'bustle': 652, 'people never': 3258, '30 minute': 41, 'lead': 2531, 'arrange': 335, 'wash': 5069, 'capital': 685, 'chip': 792, 'xiao': 5206, 'selected': 4078, 'pen': 3239, 'fond': 1772, 'menu restaurant': 2878, 'intersection': 2375, 'majority': 2768, 'highly': 2183, 'drag': 1301, 'surprising': 4520, 'age': 214, 'key': 2448, 'good work': 1993, 'reach': 3704, 'sad': 3967, 'audience': 380, 'crew': 1035, 'quot quot': 3638, 'ultimate': 4866, 'mixture': 2915, '18': 13, 'bar': 438, 'tendency': 4626, 'pressure': 3430, 'although many': 258, 'last one': 2508, 'book read': 565, 'turned': 4830, 'fall': 1574, 'english': 1425, 'thousand': 4677, 'wa almost': 4979, 'sat': 3990, 'importantly': 2285, 'ha gone': 2070, 'hesitate': 2169, 'fill': 1653, 'wear': 5090, 'short': 4162, 'angel': 286, 'five year': 1745, 'hello': 2154, 'time time': 4723, 'quot big': 3564, 'ten': 4623, 'foreign': 1791, 'complete': 908, 'fresh delicious': 1833, 'back home': 407, 'lot thing': 2698, 'easier': 1344, 'delicate': 1149, 'softness': 4278, 'wonder': 5156, 'aware': 401, 'experiment': 1526, 'like people': 2608, 'little little': 2642, 'industrial': 2312, 'belly': 484, 'background': 408, 'three people': 4684, 'quite like': 3545, 'like pork': 2610, 'read book': 3708, 'love come': 2703, 'studying': 4463, 'north': 3062, 'crisis': 1040, 'london': 2666, 'contact': 959, 'criticism': 1044, 'think better': 4659, 'tie': 4701, 'basic': 442, '400': 134, 'sensitive': 4089, 'many time': 2811, 'someone': 4286, 'model': 2920, 'painting': 3181, 'film': 1657, 'camera': 677, 'record': 3759, 'courtyard': 1013, 'iron': 2395, 'allows': 229, 'artist': 348, 'younger': 5245, 'gathered': 1884, 'victim': 4945, 'wanted': 5057, 'social': 4272, 'community': 896, 'artistic': 349, 'probably': 3458, 'loss': 2693, 'oil painting': 3100, 'younger brother': 5246, 'father 39': 1604, 'cake also': 667, 'quot first': 3592, 'ship': 4149, 'leaving': 2540, 'focused': 1767, 'section': 4060, 'movie': 2953, 'saying': 4016, 'showing': 4172, 'class': 820, 'theater': 4642, 'explained': 1529, 'art': 344, 'drama': 1303, 'watching': 5076, 'stage': 4364, 'acting': 175, 'bone': 560, 'champion': 727, 'crunchy': 1054, 'wei': 5096, 'silent': 4190, 'inferior': 2320, 'honor': 2211, 'haha': 2094, 'asked': 354, 'fortunate': 1809, 'mistaken': 2910, 'said quot': 3973, 'sashimi': 3989, 'rumor': 3950, 'met': 2882, 'image': 2271, 'regular': 3787, 'latter': 2514, 'basis': 444, 'kimchi': 2453, 'latter part': 2516, 'know much': 2475, 'breakfast': 595, 'outstanding': 3167, 'connection': 942, 'treat': 4797, 'four': 1816, 'sleep': 4234, 'tiger': 4702, 'first wa': 1736, 'stone': 4417, 'man': 2789, 'wish': 5140, 'helped': 2157, 'wa quite': 5010, 'tan': 4575, 'allowed': 228, 'pretend': 3432, 'walk around': 5035, '39 hand': 80, 'like know': 2602, 'fall love': 1575, 'hunger': 2245, 'jane': 2410, 'farewell': 1594, 'eat time': 1360, 'want say': 5051, 'heart people': 2144, 'cow': 1018, 'run': 3951, 'gentle': 1895, 'hilarious': 2184, 'using': 4922, 'us': 4916, 'cheesy': 760, 'admit': 196, 'degree': 1146, 'die': 1211, 'dating': 1099, 'celebrate': 714, 'occasion': 3089, 'advantage': 202, 'half year': 2099, 'come together': 877, 'good let': 1973, '39 die': 58, 'pedestrian': 3236, 'fully': 1863, 'packaging': 3174, 'one know': 3116, 'quot red': 3641, 'drunk': 1324, 'german': 1898, 'teeth': 4609, 'trip': 4811, 'passion': 3215, '75': 143, 'bathroom': 448, 'strength': 4447, 'wa quot': 5011, 'quot order': 3635, 'ha come': 2063, 'priced': 3447, 'continue': 965, 'originally': 3155, 'origin': 3152, 'derived': 1179, 'inspired': 2344, 'join': 2425, 'graduation': 2003, 'guy': 2052, 'reminded': 3815, 'technique': 4606, 'draw': 1309, 'pattern': 3225, 'extend': 1542, 'starting point': 4382, 'name quot': 2994, 'made good': 2748, 'quality ingredient': 3532, '39 quot': 109, 'quot dark': 3580, 'one one': 3119, 'sleeping': 4235, 'wearing': 5091, 'flower': 1762, 'refresh': 3775, 'warmth': 5067, 'relaxation': 3795, 'nature': 3006, 'tokyo': 4743, 'generation': 1891, 'southern': 4310, 'system': 4554, 'south': 4308, 'alcohol': 223, 'pride': 3448, 'soak': 4269, 'driving': 1321, 'safety': 3970, 'thinking': 4667, 'life like': 2585, 'many story': 2809, '39 find': 72, 'quot love': 3619, 'must say': 2988, 'say quot': 4015, 'kind love': 2457, 'missing': 2907, 'number people': 3078, 'subject': 4471, 'transformed': 4789, 'palm': 3184, 'advance': 198, 'exercise': 1511, 'chase': 750, 'catch': 707, 'pretended': 3433, 'framed': 1824, 'purpose': 3514, 'think much': 4662, 'needed': 3016, 'quot good': 3600, 'excitement': 1507, 'charlie': 747, 'quietly': 3540, 'drug': 1323, 'refined': 3768, 'intend': 2358, 'trying': 4824, 'damage': 1088, 'requires': 3839, 'higher': 2179, 'two word': 4857, 'good people': 1979, 'people see': 3263, 'bat': 446, 'fortunately': 1810, 'loose': 2687, 'quickly': 3538, 'definition': 1145, 'grown': 2033, 'grow': 2031, 'previously': 3438, 'company': 898, 'chi': 771, 'freshness': 1838, 'wild': 5127, 'matched': 2831, 'tear': 4602, 'dance': 1089, 'many opportunity': 2807, 'ha become': 2059, '39 face': 65, 'whole family': 5119, 'sunrise': 4502, 'screen': 4040, 'prove': 3497, 'agree': 219, '39 use': 126, 'use word': 4918, 'important thing': 2284, 'people also': 3242, 'fly': 1764, 'shanghai': 4130, 'bank': 436, 'understand': 4876, 'faint': 1567, 'intense': 2360, 'unforgettable': 4884, 'peak': 3234, 'restore': 3869, 'two year': 4859, 'ha changed': 2062, 'want get': 5045, 'breeze': 600, 'heaven': 2149, 'slower': 4243, 'worse': 5182, 'fiction': 1643, 'surrounding': 4522, 'divided two': 1268, 'doe want': 1278, 'personal experience': 3293, 'glutinous': 1936, 'board': 553, 'shallow': 4128, 'men': 2861, 'reader': 3711, 'appointment': 318, 'glutinous rice': 1937, 'screaming': 4039, 'jealous': 2413, 'want tell': 5055, 'pointed': 3369, 'received': 3746, 'equal': 1448, 'forever': 1796, 'two day': 4845, 'quot turned': 3663, 'look people': 2680, 'dollar': 1282, 'lighting': 2594, 'could': 997, 'finding': 1715, 'really like': 3733, 'quot classic': 3573, 'theme': 4643, 'grand': 2005, 'program': 3473, 'commercial': 888, 'august': 383, 'say 39': 4012, 'think quot': 4664, 'base': 440, 'town': 4775, 'others': 3159, '39 many': 96, 'fifth': 1646, 'good thing': 1990, 'bridge': 602, 'aside': 352, 'next door': 3038, 'look like': 2679, 'fact': 1556, 'fact make': 1559, 'weekend': 5095, 'chaos': 736, 'lord': 2688, 'hard say': 2125, 'though': 4673, 'smiled': 4254, 'even though': 1475, 'version': 4941, 'series': 4098, 'distorted': 1263, 'ha good': 2071, 'repair': 3825, 'purple': 3513, 'explain': 1528, 'torture': 4764, 'silk': 4192, 'goddess': 1948, 'regain': 3779, 'lazy': 2529, 'still ha': 4406, 'go see': 1942, 'graduated': 2002, 'teach': 4597, 'studied': 4460, 'university': 4898, 'property': 3483, 'bloom': 549, 'shock': 4150, 'wake': 5033, 'saving': 4008, 'job': 2423, 'sweat': 4536, 'time like': 4715, 'getting': 1910, 'triple': 4812, 'solid': 4283, 'moon': 2932, 'rate': 3694, 'inside outside': 2339, 'except': 1502, 'liang': 2569, 'surface': 4517, 'understood': 4880, 'combination': 871, 'profession': 3468, 'friendship': 1853, 'created': 1027, 'belief': 481, 'management': 2796, 'woman': 5148, 'convey': 980, 'inevitable': 2314, 'drop': 1322, 'separated': 4095, 'ha created': 2065, 'life good': 2582, 'good quot': 1984, 'quot one': 3634, 'quot want': 3672, 'fancy': 1589, 'really need': 3735, 'leading': 2533, 'master': 2827, 'science': 4032, 'attractive': 378, 'comfort': 881, 'liu': 2646, 'energetic': 1421, 'picked': 3313, 'gray': 2012, 'slowly': 4244, 'steel': 4394, 'pay attention': 3229, 'quot beautiful': 3559, 'quot well': 3674, 'interested': 2368, 'hall': 2100, 'first thing': 1733, 'people know': 3250, 'believe': 482, 'rhythm': 3890, 'people good': 3248, 'prepared': 3423, 'remembered': 3812, 'rough': 3940, 'eager': 1337, 'complaint': 907, 'nearly': 3010, 'thrown': 4695, 'eve': 1470, 'year 39': 5220, 'people walk': 3268, '12': 5, 'challenge': 726, 'causing': 711, 'temple': 4619, 'magazine': 2753, 'sheet': 4140, 'gang': 1875, 'friend said': 1850, 'quot 39': 3550, '39 name': 102, 'world quot': 5177, 'tank': 4578, 'student': 4459, 'chief': 776, 'impact': 2278, 'impossible': 2287, '39 seen': 116, 'quot think': 3658, 'entering': 1436, 'phone': 3305, 'rule': 3949, 'split': 4344, 'window': 5133, 'teenager': 4608, 'right hand': 3905, 'letting': 2566, 'really ha': 3732, 'identity': 2259, 'dawn': 1103, 'basically': 443, 'heat': 2148, 'mouse': 2948, 'irritating': 2398, 'mother 39': 2940, 'year old': 5225, 'people live': 3252, 'swing': 4547, 'energy': 1422, 'indifferent': 2307, 'one 39': 3109, 'aunt': 384, 'ceremony': 720, 'youth': 5247, 'director': 1233, 'grain': 2004, 'scattered': 4023, 'quot youth': 3680, '39 last': 88, 'people think': 3266, 'fallen': 1576, 'responsible': 3858, 'disturbed': 1265, 'concrete': 929, 'mainly': 2764, 'abroad': 151, 'department': 1169, 'college': 864, 'rock': 3926, 'form': 1804, 'believed': 483, 'introduction': 2383, 'meaning': 2844, 'appearance': 312, 'difference': 1214, 'developed': 1205, 'teaching': 4600, 'seriously': 4101, 'day ago': 1105, 'college student': 865, 'like quot': 2611, 'chocolate quot': 795, 'track': 4778, 'gas': 1881, 'trial': 4803, 'wan': 5040, 'eventually': 1478, 'love way': 2722, 'lesson': 2556, 'sky': 4230, 'fascinating': 1596, 'cover': 1015, 'still good': 4405, 'first two': 1735, 'layout': 2528, 'towards': 4773, 'much better': 2968, 'bus': 650, 'bustling': 653, 'excited': 1506, 'dust': 1333, 'make people': 2778, 'first place': 1731, '39 first': 73, 'sneak': 4265, 'replace': 3829, 'dare': 1093, 'strongly': 4453, 'thoroughly': 4672, 'plant': 3342, 'easily': 1345, 'stalk': 4370, 'regret': 3786, 'forest': 1795, 'bit bit': 527, 'three hundred': 4683, 'risk': 3913, 'award': 399, 'laugh': 2517, 'jade': 2406, 'boy': 585, 'conversation': 979, 'reading': 3713, 'laughed': 2518, 'silly': 4193, 'entangled': 1432, 'sight': 4185, 'cell': 715, 'laughing': 2519, 'seeing': 4068, 'cry': 1056, 'deeply': 1138, 'bury': 649, 'situation': 4223, 'concern': 926, 'habit': 2093, 'rid': 3898, 'ending': 1416, 'death': 1113, 'girl 39': 1917, '39 life': 90, 'one another': 3110, '39 know': 87, 'work hard': 5166, '39 get': 75, 'get rid': 1907, 'dog blood': 1280, '39 forget': 74, 'rest life': 3860, 'tv': 4833, 'biggest': 515, 'misunderstanding': 2912, 'mankind': 2799, 'illusory': 2270, 'impression': 2290, 'accompanied': 164, 'cloud': 845, 'jumped': 2438, 'chased': 751, 'direction': 1231, 'appeared': 313, 'encounter': 1408, 'knew': 2466, 'documentary': 1272, 'suspect': 4526, 'moral': 2933, 'orientation': 3151, 'divide': 1266, 'question': 3535, 'human': 2237, 'chain': 724, 'position': 3390, 'deeper': 1136, 'issue': 2400, 'article': 346, 'universal': 4896, 'formation': 1806, 'guide': 2047, 'behavior': 477, 'kill': 2449, 'object': 3080, 'judgment': 2434, 'philosophical': 3302, 'significance': 4188, 'specific': 4326, 'public': 3503, 'guilty': 2048, 'morality': 2934, 'compassion': 903, 'status': 4387, 'gift': 1913, 'answered': 300, 'cruel': 1051, 'kindness': 2461, 'shooting': 4155, 'lyric': 2743, 'objective': 3081, 'achieve': 170, 'achieved': 171, 'persistence': 3286, 'humanity': 2240, 'ugliness': 4864, 'defend': 1142, 'prison': 3454, 'correct': 994, 'propaganda': 3482, 'political': 3375, 'subjective': 4473, 'expression': 1539, 'suspicion': 4530, 'promoted': 3479, 'result': 3873, '39 help': 85, 'quot many': 3624, 'quot may': 3625, 'quot feel': 3589, 'world view': 5178, '39 talk': 122, 'people 39': 3241, 'quot give': 3597, 'quot human': 3606, 'human nature': 2238, 'thing 39': 4653, 'everyone ha': 1486, 'see quot': 4066, 'quot american': 3555, 'positive': 3392, 'moment': 2924, 'comparison': 902, 'prefer': 3416, 'translation': 4791, 'spent': 4336, 'career': 693, 'wealth': 5087, 'support': 4509, 'taken': 4564, 'collapse': 858, 'role': 3927, 'du': 1326, 'parent': 3194, 'divorced': 1270, 'given': 1926, 'possession': 3394, 'becomes': 465, 'knife': 2468, 'vicious': 4944, 'loses': 2691, 'murderer': 2978, 'future': 1872, 'forgiveness': 1801, 'discus': 1247, 'rebellious': 3743, 'extremely': 1550, 'clever': 829, 'begun': 476, 'act': 174, 'understanding': 4878, 'heroine': 2166, 'character': 739, 'ethic': 1466, 'violence': 4959, 'perspective': 3298, 'suffer': 4488, 'harm': 2128, 'deception': 1121, 'shot': 4165, 'suppress': 4513, 'anger': 287, 'cross': 1046, 'dying': 1335, 'enemy': 1419, 'tolerant': 4746, 'obviously': 3088, 'exchange': 1505, 'sincere': 4204, 'faith': 1572, 'goodness': 1994, 'educated': 1372, 'society': 4273, 'stable': 4361, 'weak': 5085, 'certain': 721, 'spiritual': 4342, 'beyond': 503, 'imagination': 2272, 'contrary': 971, 'education': 1373, 'principle': 3453, 'law': 2524, 'rely': 3806, 'losing': 2692, 'guidance': 2046, 'pain': 3178, 'hatred': 2135, 'gain': 1873, 'logic': 2662, 'confession': 933, 'clue': 846, 'domestic': 1283, 'reveals': 3883, 'eastern': 1347, 'korea': 2485, 'importance': 2282, 'reflected': 3770, 'fixed': 1746, 'mode': 2919, 'filial': 1652, 'son': 4291, 'daughter': 1100, 'cause': 709, 'murder': 2975, 'crime': 1037, 'intentional': 2363, 'excuse': 1509, 'rebellion': 3742, 'weapon': 5089, 'justice': 2441, 'judge': 2432, 'psychological': 3501, 'exposed': 1534, 'cruelty': 1052, 'concealed': 921, 'sexual': 4120, 'assault': 359, 'led': 2541, 'departure': 1170, 'tremble': 4801, 'protect': 3492, 'reversed': 3887, 'accept': 158, 'resistance': 3848, 'neither': 3021, 'ugly': 4865, 'attempt': 371, 'broad': 611, 'superficial': 4506, 'proposition': 3486, 'prisoner': 3455, 'burden': 641, 'conscience': 944, 'meaning quot': 2845, 'family love': 1584, 'taken away': 4565, 'played role': 3349, 'original intention': 3154, 'life 39': 2576, '39 think': 123, 'character also': 741, 'highlight film': 2182, 'love hate': 2711, 'help think': 2156, 'think film': 4660, 'wa shot': 5016, 'enemy quot': 1420, 'quot obviously': 3632, 'quot make': 3621, 'give quot': 1925, 'one hand': 3114, 'happy life': 2122, 'life life': 2584, '39 need': 103, 'film also': 1660, 'quot god': 3598, 'bit like': 528, 'south korea': 4309, 'daughter 39': 1101, 'book quot': 564, 'film one': 1691, 'one thing': 3122, 'victim 39': 4946, 'going back': 1950, 'superior': 4507, 'sentence': 4091, 'ha always': 2057, 'quot smile': 3649, 'go quot': 1941, 'sentence quot': 4092, 'title': 4731, 'analyze': 281, 'pull': 3506, 'banner': 437, 'trick': 4807, 'term': 4629, 'analysis': 280, 'necessary': 3012, 'context': 964, 'element': 1389, 'vigilance': 4953, 'contradiction': 969, 'indispensable': 2309, 'tide': 4700, 'died': 1212, 'wolf': 5147, 'fatal': 1601, 'tribute': 4806, 'stretched': 4448, 'ridicule': 3900, 'irony': 2397, 'repeatedly': 3828, 'adapted': 189, 'television': 4610, 'culture': 1064, 'network': 3027, 'episode': 1447, 'complicated': 914, 'west': 5107, 'earliest': 1340, 'creator': 1031, 'purely': 3512, 'partner': 3208, 'fake': 1573, 'idiot': 2261, 'undoubtedly': 4881, 'soul': 4299, 'angry': 289, 'exactly': 1495, 'pirate': 3327, 'depp': 1174, 'performance': 3279, 'reminiscent': 3817, 'producer': 3465, 'hope': 2212, 'suffered': 4489, 'defeat': 1140, 'greatly': 2018, 'depiction': 1173, 'legend': 2549, 'history': 2186, 'influence': 2324, 'mysterious': 2990, 'cultural': 1062, 'tablet': 4556, 'integrated': 2353, 'narrative': 2998, 'spoof': 4347, 'function': 1866, 'schizophrenic': 4028, 'structure': 4454, 'badly': 415, 'sword': 4550, 'shine': 4148, 'began': 470, 'false': 1578, 'perhaps': 3282, 'representative': 3834, 'fate': 1602, 'published': 3505, 'quot general': 3595, 'reading quot': 3715, 'quot thought': 3659, 'course 39': 1010, '39 understand': 125, 'ha already': 2055, 'movie quot': 2962, 'film quot': 1693, 'film story': 1698, 'drama ha': 1305, 'film television': 1699, 'television drama': 4611, 'tv series': 4835, 'series quot': 4099, 'character quot': 744, 'quot wa': 3670, 'protagonist story': 3491, 'however quot': 2231, 'ha strong': 2086, 'protagonist film': 3490, 'film almost': 1659, '39 performance': 106, 'quot combination': 3574, 'quot unfortunately': 3667, 'box office': 583, 'legend quot': 2550, 'quot left': 3612, 'lost quot': 2695, 'narrative structure': 3000, 'film wa': 1701, 'boy 39': 586, 'tell story': 4614, 'passed away': 3213, 'new generation': 3031, 'feng': 1640, 'posture': 3400, 'interview': 2378, 'hao': 2114, 'jiang': 2419, 'wen': 5103, 'relationship': 3790, 'humor': 2241, 'appreciated': 320, 'cinema': 809, 'earthquake': 1343, '1942': 16, '1980s': 18, 'enthusiasm': 1440, 'nonsense': 3056, 'hobby': 2192, 'happen': 2115, 'wa really': 5012, 'wa written': 5025, 'one quot': 3121, 'quot 1942': 3549, '1942 quot': 17, 'wa always': 4982, 'looking back': 2684, 'always feel': 264, 'work also': 5165, 'ghost': 1911, 'evaluation': 1469, 'sigh': 4184, 'tonight': 4753, 'watched': 5074, 'mobile': 2916, 'closer': 841, 'sex': 4119, 'li': 2568, 'xiaodan': 5207, 'tolerance': 4745, 'natural': 3004, 'zhang': 5259, 'fei': 1626, 'essay': 1458, 'ge': 1888, 'successful': 4482, 'positioning': 3391, 'playing': 3351, 'appear': 311, 'powerful': 3407, 'dilemma': 1223, 'talent': 4568, 'middle school': 2892, 'mother wa': 2942, 'woman wa': 5155, 'quot life': 3614, 'life quot': 2587, 'real quot': 3719, 'quot style': 3654, 'film good': 1680, 'mobile phone': 2917, 'phone call': 3306, 'aspect': 358, 'detailed': 1199, 'professional': 3469, 'reader 39': 3712, 'nothing wrong': 3067, 'scale': 4018, 'investment': 2388, 'avenger': 393, 'regarded': 3782, 'limit': 2620, 'inability': 2296, 'visual': 4965, 'deliberately': 1148, 'bloody': 547, 'plot': 3358, 'revenge': 3884, 'hunting': 2247, 'redemption': 3764, 'lens': 2555, 'storyline': 4436, 'actor': 182, 'content': 962, 'shortcoming': 4164, 'worthy': 5189, 'recognition': 3751, 'extent': 1544, 'witness': 5145, 'unexpected': 4882, 'mystery': 2991, 'temperament': 4618, 'border': 569, 'photographer': 3308, 'huang': 2233, 'exquisite': 1541, 'giving': 1927, 'depression': 1176, 'tension': 4628, 'wu': 5203, 'zhenyu': 5263, 'independent': 2306, 'scene': 4024, 'fighting': 1649, 'personality': 3295, 'initial': 2328, 'confrontation': 937, 'transformation': 4788, 'process': 3460, 'intriguing': 2380, 'effort': 1377, 'complex': 912, 'writer': 5195, 'wife': 5126, 'wonderful': 5157, 'scared': 4022, 'longer': 2672, 'abandon': 146, 'curious': 1069, 'interpretation': 2374, 'lin': 2623, 'xue': 5213, 'improvement': 2294, 'becoming': 466, 'fierce': 1645, 'requirement': 3838, 'reputation': 3837, 'cannon': 682, 'spirit': 4341, 'resentment': 3843, 'complexity': 913, 'practical': 3408, 'film 39': 1658, 'film director': 1670, 'director 39': 1234, 'although still': 260, 'still many': 4407, 'hero quot': 2164, 'narrative technique': 3001, 'quot national': 3628, 'beginning end': 473, 'fighting scene': 1650, 'scene wa': 4025, 'two men': 4849, 'film film': 1677, 'film course': 1667, 'course also': 1011, 'lin xue': 2624, 'chinese film': 790, 'film market': 1689, 'domestic film': 1284, 'audience 39': 381, 'quality film': 3531, 'without thinking': 5144, 'every year': 1483, 'year still': 5227, 'good reputation': 1985, 'film tell': 1700, 'heavy taste': 2151, 'leftover': 2546, 'online': 3127, 'proportion': 3484, 'amazing': 270, 'experiencing': 1525, 'marriage': 2818, 'beijing': 480, 'appropriate': 323, 'unclear': 4872, 'absolutely': 153, 'maturity': 2837, 'establish': 1461, 'piety': 3321, 'build': 635, 'countless': 1002, 'encountered': 1409, 'exaggerated': 1496, 'humorous': 2242, 'develop': 1204, 'male': 2782, 'female': 1631, 'handsome': 2108, 'noble': 3051, 'fumei': 1864, 'technical': 4605, 'rot': 3938, 'difficulty': 1220, 'yuan': 5251, 'hold': 2194, 'xie': 5209, 'yi': 5233, 'nerve': 3023, 'spark': 4319, 'fu': 1860, 'han': 2104, 'pleasing': 3356, 'magic': 2754, 'directed': 1230, 'metropolis': 2888, 'realistic': 3721, 'example': 1499, 'oneself': 3125, 'tempted': 4622, 'firmly': 1723, 'grasp': 2008, 'blind date': 542, 'men woman': 2862, 'year later': 5224, 'woman quot': 5154, 'quot really': 3640, 'quot blind': 3566, 'quot also': 3552, 'also see': 250, 'man woman': 2795, 'person 39': 3288, 'kind people': 2458, 'know kind': 2472, 'made people': 2750, '39 best': 51, 'really make': 3734, 'people feel': 3247, 'love quot': 2717, 'young men': 5242, 'big screen': 512, 'true love': 4819, 'love still': 2718, 'realized': 3724, 'ye': 5218, 'particularly': 3207, 'effect': 1375, 'perform': 3278, 'comedy': 878, 'arrogant': 343, 'jin': 2421, 'uncle': 4870, 'predecessor': 3415, 'tian': 4698, 'kiss': 2464, 'elevator': 1390, 'stood': 4418, 'whole movie': 5121, '39 expect': 62, 'special effect': 4324, 'actor 39': 183, 'comedy quot': 880, 'hundred year': 2244, 'screenwriter': 4041, 'seem': 4071, 'commit': 890, 'suicide': 4493, 'reluctant': 3805, 'yin': 5234, 'zhu': 5268, 'hospital': 2220, 'tearful': 4603, 'sacrifice': 3965, 'miracle': 2903, 'sexy': 4121, 'commit suicide': 891, 'three time': 4686, 'quot time': 3661, 'draft': 1300, 'singing': 4209, 'captured': 688, 'dad': 1082, 'broadcast': 612, 'package': 3173, 'vomit': 4973, 'weibo': 5097, 'released': 3799, 'praised': 3412, 'mainland': 2763, 'legal': 2548, 'fatherly': 1610, 'journey': 2430, 'tyrant': 4863, 'bed': 467, 'gap': 1878, 'thus': 4697, 'broke': 613, 'tragedy': 4781, 'killed': 2450, 'shocked': 4151, 'rushed': 3955, 'lawyer': 2525, 'logically': 2664, 'borrowed': 572, 'physical': 3310, 'evidence': 1492, 'prey': 3439, 'core': 991, 'reversal': 3885, 'described': 1181, 'logical': 2663, 'video': 4948, 'reasoning': 3741, 'entire': 1441, 'rigid': 3909, 'switch': 4548, 'captain': 686, 'criminal': 1039, 'investigation': 2387, 'suit': 4494, 'entered': 1435, 'guo': 2051, 'deng': 1168, 'express': 1536, 'wealthy': 5088, 'alternative': 253, 'credibility': 1032, 'production': 3467, 'squad': 4354, 'confessed': 932, 'ninth': 3050, 'division': 1269, 'zhou': 5267, 'xing': 5210, 'official': 3095, 'ridiculous': 3902, 'reminds': 3816, 'joke': 2428, 'touched': 4767, 'computer': 919, 'related': 3789, 'quot dad': 3578, 'dad quot': 1083, 'still 39': 4402, '39 stop': 118, 'father quot': 1607, 'ha seen': 2084, 'seen many': 4076, 'father daughter': 1605, 'fatherly love': 1611, 'quot story': 3653, 'local tyrant': 2658, 'two woman': 4856, 'wa killed': 5004, 'wa shocked': 5015, 'rich man': 3896, 'ha yet': 2092, 'second generation': 4053, 'quot kind': 3609, 'real world': 3720, 'saying quot': 4017, 'quot joke': 3608, 'quot last': 3611, 'bought': 579, 'cloth': 842, 'watercress': 5080, 'shoe': 4153, 'practice': 3409, 'really 39': 3726, 'want make': 5048, 'ability': 148, 'courage': 1008, 'dazzling': 1108, 'knight': 2469, 'expressive': 1540, 'clearly': 828, 'account': 167, 'stolen': 4415, 'fox': 1819, 'motivation': 2945, 'uniform': 4888, 'allow': 227, 'convinced': 982, 'black white': 534, 'wa bit': 4984, 'whole film': 5120, 'film ha': 1681, 'ha feeling': 2068, 'novel': 3070, 'su': 4470, 'naturally': 3005, 'gao': 1877, 'restored': 3870, 'greatest': 2017, 'apart': 309, 'zhao': 5261, 'knowing': 2479, 'eternal': 1465, 'paving': 3227, 'scenery': 4026, 'figure': 1651, 'conflict': 936, 'description': 1184, 'yang': 5216, 'sent': 4090, 'ji': 2416, 'lifetime': 2591, 'learned': 2536, 'fell': 1627, 'lake': 2495, 'liked': 2616, 'paragraph': 3192, 'blessing': 540, 'obsessed': 3084, 'unfortunate': 4885, 'unscrupulous': 4907, 'demand': 1166, 'yong': 5237, 'zhong': 5266, 'desire': 1187, 'therefore': 4647, 'accompany': 165, 'disappeared': 1240, 'overseas': 3170, 'wedding': 5093, 'teacher': 4598, 'emotional': 1403, 'obedient': 3079, 'ritual': 3914, 'taught': 4592, 'authority': 389, 'safe': 3969, 'distance': 1260, 'martial': 2821, 'xun': 5214, 'abandoned': 147, 'painful': 3179, 'conference': 931, 'caught': 708, 'chest': 768, 'contest': 963, 'dialogue': 1209, 'squatting': 4357, 'licking': 2573, 'injury': 2331, 'marry': 2820, 'medical': 2850, 'injured': 2330, 'husband': 2251, 'swear': 4534, 'stayed': 4390, 'unwilling': 4910, 'possibility': 3395, 'falling': 1577, 'time read': 4720, 'wa also': 4981, 'drama conflict': 1304, 'latter half': 2515, 'young woman': 5244, 'wa given': 4999, 'river lake': 3916, 'wa child': 4989, 'brother wa': 619, 'middle night': 2891, 'still remember': 4408, 'remember quot': 3811, 'story wa': 4435, 'get along': 1904, 'teacher 39': 4599, 'life wa': 2589, 'wa young': 5026, 'young man': 5241, 'martial art': 2822, 'woman also': 5150, 'wa like': 5005, 'person wa': 3290, 'quot saw': 3643, 'look back': 2675, 'quot zhang': 3681, '39 heart': 84, 'quot know': 3610, 'big brother': 509, 'quot wu': 3678, 'quot used': 3669, 'let go': 2562, 'everyone 39': 1485, 'portrayed': 3388, 'burst': 647, 'admire': 195, 'flash': 1749, 'mess': 2879, 'love end': 2707, 'many character': 2803, 'burst tear': 648, 'hard work': 2126, 'movie movie': 2960, 'describing': 1183, 'reincarnation': 3788, 'earth': 1342, 'devastated': 1203, 'rescued': 3841, 'officer': 3094, 'witnessed': 5146, 'ill': 2267, 'alive': 225, 'cheng': 765, 'warrior': 5068, 'russian': 3958, 'sweetheart': 4544, 'accepted': 160, 'timely': 4728, 'crowd': 1049, 'reflecting': 3771, 'hollywood': 2198, 'continuous': 968, 'nest': 3025, 'trace': 4777, 'loneliness': 2667, 'qin': 3526, 'dynasty': 1336, 'emperor': 1404, 'seek': 4069, 'copy': 990, 'betray': 498, 'theory': 4646, 'inevitably': 2315, 'echo': 1367, 'describe': 1180, 'incident': 2298, 'monster': 2929, 'guessed': 2043, 'saved': 4007, 'educational': 1374, 'truth': 4821, 'chess': 767, 'grandfather': 2006, 'lack': 2491, 'nation': 3002, 'panoramic': 3188, 'built': 637, 'cliff': 831, 'meticulously': 2887, 'armor': 330, 'symbol': 4551, 'chaotic': 737, 'critic': 1043, 'memory': 2860, 'seemed': 4072, 'yue': 5252, 'mistakenly': 2911, 'global': 1932, 'sequel': 4096, 'evil': 1493, 'changing': 733, 'battle': 449, 'marketing': 2817, 'contribution': 975, 'asian': 351, 'subway': 4479, 'setting': 4113, 'jackie': 2404, 'chan': 729, 'fighter': 1648, 'lonely': 2668, 'suspense': 4528, 'gimmick': 1914, 'doomed': 1291, 'struggle': 4455, 'villain': 4958, 'destined': 1192, 'boring': 570, 'guessing': 2044, 'filming': 1705, 'concerned': 927, 'replaced': 3830, 'reaction': 3706, 'film still': 1697, 'still alive': 4403, 'look forward': 2677, 'film even': 1673, 'people world': 3270, 'called quot': 673, 'fell love': 1628, 'quot beginning': 3561, 'beginning film': 474, 'quot long': 3617, '39 old': 105, 'person ha': 3289, 'uncle 39': 4871, 'life ha': 2583, 'film called': 1665, 'blood quot': 546, 'quot blood': 3567, 'story story': 4432, 'action movie': 179, 'love story': 2719, 'quot film': 3590, 'quot however': 3605, 'saw wa': 4010, 'make audience': 2770, 'jackie chan': 2405, 'ha never': 2079, 'american movie': 276, 'film like': 1685, 'movie good': 2957, 'married': 2819, 'former': 1808, 'derailed': 1178, 'embarrassed': 1397, 'able': 149, 'reported': 3832, 'pile': 3324, 'ruined': 3948, 'relative': 3792, 'undeniable': 4875, 'reconciliation': 3758, 'dignity': 1222, 'decade': 1118, 'ignored': 2265, 'refuse': 3777, 'happiness': 2119, 'dedication': 1132, 'reflect': 3769, 'get married': 1906, 'always felt': 265, 'love also': 2702, 'loved one': 2724, 'woman ha': 5151, 'family life': 1583, 'life make': 2586, 'good life': 1974, 'female owner': 1635, 'love love': 2713, 'people around': 3244, 'main theme': 2762, 'movie 39': 2954, 'woman like': 5152, 'sin': 4202, 'ren': 3821, 'dahua': 1085, 'chen': 763, 'sicheng': 4179, 'horror': 2216, 'corpse': 993, 'serial': 4097, 'killing': 2452, 'thrilling': 4690, 'construction': 958, 'flesh': 1755, 'factory': 1563, 'ruin': 3947, 'shadow': 4123, 'robbery': 3922, '90': 145, 'murderous': 2979, 'occurred': 3092, 'police': 3371, 'lady': 2493, 'fang': 1590, 'seemingly': 4073, 'era': 1452, 'seven': 4114, 'deadly': 1111, 'instinct': 2349, 'century': 719, 'affair': 208, 'war': 5058, 'mainstream': 2765, 'perverted': 3299, 'jing': 2422, 'subtitle': 4476, 'compact': 897, 'detective': 1200, 'yan': 5215, 'chasing': 752, 'insurance': 2352, 'crazy': 1023, 'bos': 573, 'confusing': 939, 'masterpiece': 2828, 'dead': 1110, 'awkward': 403, 'xu': 5211, 'ruo': 3953, 'receive': 3745, 'failure': 1566, 'attack': 368, 'gun': 2049, 'instantly': 2347, 'classmate': 824, 'bare': 439, 'butt': 655, 'incredible': 2304, 'buddy': 631, 'forced': 1789, 'sing': 4207, 'praise': 3411, 'counterattack': 1001, 'censorship': 716, 'holding': 2195, 'lying': 2742, 'reveal': 3880, 'doctor': 1271, 'destroy': 1194, 'explore': 1531, 'script': 4042, 'devil': 1207, 'sunshine': 4503, 'riding': 3903, 'progress': 3474, 'quot uniform': 3668, 'uniform quot': 4889, 'ren dahua': 3822, 'chen sicheng': 764, 'theme quot': 4645, 'two different': 4846, 'make quot': 2779, 'murder case': 2976, 'police officer': 3372, 'war quot': 5062, 'quot became': 3560, 'kind film': 2455, 'order make': 3143, 'final result': 1708, 'quite interesting': 3544, 'xu ruo': 5212, 'quot crazy': 3576, 'quot black': 3565, 'good evil': 1967, 'quot year': 3679, 'quot fact': 3587, 'left behind': 2544, 'scorpion': 4037, 'pulling': 3508, 'luo': 2740, 'planet': 3340, 'extended': 1543, 'trailer': 4783, 'nazi': 3008, '2009': 26, 'practiced': 3410, 'cousin': 1014, 'starring': 4378, 'pulled': 3507, 'robert': 3924, 'horn': 2214, 'tough': 4769, 'thunder': 4696, 'joy': 2431, 'debut': 1117, 'embarked': 1395, 'trilogy': 4810, 'produce': 3463, 'yusen': 5255, 'killer': 2451, 'desperate': 1189, 'pigeon': 3323, 'church': 808, 'suggesting': 4492, 'latest': 2513, 'discussion': 1248, 'john': 2424, 'continues': 967, 'fairy': 1570, 'james': 2409, 'bond': 559, 'lower': 2729, 'revolution': 3889, 'artificial': 347, 'heroism': 2168, 'tease': 4604, 'lay': 2526, 'appeal': 310, 'agent': 215, 'leader': 2532, 'madman': 2751, 'cultivation': 1061, 'prostitute': 3487, 'ambition': 272, 'army': 331, '3d': 131, 'technology': 4607, 'deliberate': 1147, 'flashback': 1750, 'combat': 870, 'silently': 4191, 'contrast': 972, 'revealed': 3881, 'cherish': 766, 'attitude': 374, 'forcing': 1790, 'naughty': 3007, 'brain': 588, 'presence': 3424, 'appreciation': 321, 'spot': 4349, 'harrison': 2130, 'rushing': 3956, 'hurriedly': 2248, 'recent': 3747, 'caused': 710, 'time saw': 4721, 'death quot': 1114, 'quot two': 3665, 'king quot': 2463, 'tough guy': 4770, 'let quot': 2564, 'ha completely': 2064, 'embarked road': 1396, 'road quot': 3918, 'quot series': 3647, 'quot seems': 3646, 'wu yusen': 5204, 'past quot': 3218, 'example quot': 1500, 'similar quot': 4196, 'classic quot': 822, 'ha appeared': 2058, 'appeared quot': 314, 'also make': 245, 'child 39': 778, '39 movie': 101, 'movie like': 2959, 'fairy tale': 1571, 'ha grown': 2074, 'beautiful woman': 459, 'last episode': 2506, 'beginning movie': 475, 'first episode': 1726, 'story quot': 4431, 'end wa': 1413, 'wa watching': 5024, 'watching movie': 5078, 'friend wa': 1851, 'even quot': 1474, 'house quot': 2229, 'wa revealed': 5014, 'taste quot': 4585, 'wa strong': 5018, 'brain powder': 589, 'big villain': 513, 'bright spot': 604, 'ha also': 2056, 'also become': 239, 'life death': 2579, 'quot character': 3569, 'character plot': 743, 'give people': 1924, 'people sense': 3264, 'recent year': 3748, 'word mouth': 5162, 'make mistake': 2776, 'next year': 3042, 'city quot': 814, 'ming': 2898, 'internal': 2371, 'external': 1545, 'disaster': 1243, 'provided': 3498, 'historical': 2185, 'da': 1080, 'plague': 3336, 'government': 1998, 'soldier': 4282, 'presented': 3427, 'mile': 2893, 'recorded': 3760, 'advancement': 200, 'governor': 1999, 'reflection': 3772, 'author': 386, 'sentiment': 4093, 'smart': 4250, 'infected': 2319, 'mourning': 2947, 'bluntly': 552, 'individual': 2310, 'writes': 5197, 'height': 2152, 'zi': 5269, 'scriptwriter': 4043, 'exists': 1516, 'murdered': 2977, 'raise': 3686, 'consciousness': 946, 'treated': 4798, 'profound': 3472, 'existence': 1515, 'telling': 4616, 'sars': 3988, 'taking': 4566, 'sublimation': 4474, 'display': 1257, 'loyalty': 2731, 'ming dynasty': 2899, 'film creation': 1668, 'quot da': 3577, 'da ming': 1081, 'two film': 4847, 'ming robbery': 2900, 'robbery quot': 3923, 'thousand mile': 4678, 'whole process': 5122, 'although wa': 262, 'main line': 2761, 'china ha': 788, 'writer 39': 5196, '39 feeling': 70, 'history book': 2187, 'quot thing': 3657, 'line film': 2627, 'put bluntly': 3522, 'quot actually': 3551, 'quot chinese': 3570, 'let alone': 2559, 'look quot': 2681, 'difficult see': 1219, 'quot tell': 3656, 'knowledge': 2480, 'meeting': 2855, 'endless': 1417, 'bringing': 608, 'whose': 5124, 'connected': 941, 'closely': 840, 'describes': 1182, 'meaningless': 2847, 'accident': 162, 'disease': 1249, 'explosion': 1532, 'wheel': 5110, 'remaining': 3808, 'meaningful': 2846, 'grateful': 2010, 'gather': 1883, 'deeply touched': 1139, 'quot five': 3593, 'old man': 3105, 'thought wa': 4675, 'wa busy': 4987, 'little story': 2644, 'car accident': 690, 'little girl': 2641, 'taxi': 4593, 'driver': 1320, 'nervous': 3024, 'darkness': 1097, 'portrays': 3389, 'extraordinary': 1547, 'belong': 485, 'sinister': 4214, 'active': 180, 'gangster': 1876, 'slammed': 4231, 'helpless': 2159, 'mental': 2864, 'disorder': 1256, 'curiosity': 1068, 'soundtrack': 4301, 'happened': 2116, 'unbearable': 4869, 'following': 1770, 'puzzle': 3524, 'unveiled': 4909, 'jail': 2407, 'madness': 2752, 'granted': 2007, 'sorrow': 4295, 'tragic': 4782, 'consequence': 947, 'greatness': 2019, 'rationality': 3699, 'sinful': 4206, 'quot people': 3636, 'crime film': 1038, 'ordinary people': 3148, 'city wa': 815, '39 seem': 115, 'kong film': 2484, 'kong 39': 2483, 'film big': 1664, 'time film': 4710, 'wa used': 5022, 'wa released': 5013, 'theme film': 4644, 'also need': 247, 'upper': 4911, 'occasionally': 3090, 'consider': 949, 'goal': 1946, 'slogan': 4239, 'freedom': 1829, 'successfully': 4483, 'people always': 3243, 'literary': 2636, 'seeking': 4070, 'honest': 2207, 'bureau': 642, 'gossip': 1996, 'participated': 3205, 'unknown': 4899, 'looked': 2682, 'listened': 2634, 'entertainment': 1439, 'flat': 1751, 'remembering': 3813, 'literature': 2637, 'precious': 3413, 'genius': 1894, 'growth': 2035, 'development': 1206, 'bound': 580, 'slap': 4232, 'benefit': 489, 'virtue': 4962, 'forgotten': 1803, 'sang': 3987, 'bug': 634, 'grab': 2000, 'mirror': 2904, 'formed': 1807, 'language': 2499, 'characteristic': 745, 'direct': 1229, 'buried': 643, 'crucial': 1050, 'vividly': 4968, 'recognize': 3752, 'solve': 4284, 'elegant': 1388, 'silence': 4189, 'qing': 3527, 'shi': 4146, 'yu': 5250, 'recall': 3744, 'somewhat': 4289, 'bleak': 538, 'achievement': 172, 'arrogance': 342, 'similarity': 4197, 'established': 1462, 'imagined': 2274, 'absolute': 152, 'clip': 836, 'pursuit': 3518, 'extravagant': 1548, 'pretending': 3434, 'frankly': 1827, 'formal': 1805, 'strategy': 4442, 'self': 4080, 'vulgar': 4974, 'zero': 5258, 'twenty': 4837, 'emotion': 1402, 'certainly': 722, 'training': 4786, 'stubborn': 4458, 'talented': 4569, 'peer': 3238, 'persist': 3285, 'mature': 2836, 'ten year': 4625, 'thousand people': 4679, 'everyone know': 1487, 'know truth': 2478, 'ha nothing': 2080, 'ha taken': 2087, 'like love': 2604, 'slap face': 4233, 'year quot': 5226, 'quot world': 3677, 'read quot': 3709, 'quot doe': 3583, '39 matter': 97, 'wrote quot': 5202, 'thousand year': 4680, 'also said': 249, 'year ha': 5223, 'heart always': 2143, 'fact also': 1557, 'novel wa': 3072, 'quot word': 3676, '39 feel': 69, '39 work': 129, 'point view': 3368, 'simple story': 4200, 'author 39': 387, 'also know': 243, 'thriller': 4689, 'lively': 2652, 'discovered': 1246, 'primary': 3449, 'suspected': 4527, 'pushed': 3520, 'fled': 1754, 'escaped': 1456, 'doubt': 1295, 'expose': 1533, 'poison': 3370, 'twist': 4840, 'livelihood': 2651, 'loophole': 2686, 'flaw': 1753, 'scam': 4020, 'betrayal': 499, 'understands': 4879, 'costume': 996, 'gorgeous': 1995, 'editing': 1371, 'aesthetic': 207, 'showed': 4171, 'relies': 3804, 'attracts': 379, 'intelligence': 2356, 'ni': 3043, 'actress': 184, 'domestically': 1286, 'produced': 3464, 'male protagonist': 2787, 'wa originally': 5009, 'woman 39': 5149, 'want kill': 5047, 'wa wa': 5023, 'male lead': 2785, 'twist turn': 4841, 'story plot': 4430, '39 believe': 50, 'domestic movie': 1285, 'fact film': 1558, 'watch movie': 5073, 'ancient time': 285, 'time also': 4707, 'quot movie': 3626, 'film make': 1687, 'make film': 2773, 'horror film': 2217, 'foreign country': 1792, 'film fact': 1674, 'therefore film': 4648, 'good movie': 1977, 'feeling film': 1624, 'acting skill': 176, 'domestically produced': 1287, 'stronger': 4452, 'strict': 4449, 'neighbor': 3019, 'biological': 520, 'nightmare': 3047, 'pleasure': 3357, 'growing': 2032, 'psychology': 3502, '39 mother': 99, '39 description': 57, 'others 39': 3160, 'said wa': 3974, 'three four': 4682, 'four year': 1817, 'really think': 3736, 'past two': 3219, 'book think': 566, 'dozen': 1297, 'highest': 2180, 'advanced': 199, 'film many': 1688, 'finally got': 1711, 'movie ha': 2958, 'best choice': 493, 'button': 657, 'curse': 1074, 'optimistic': 3138, 'gentleman': 1896, 'unrestrained': 4906, 'test': 4633, 'succeeded': 4480, 'story 39': 4425, 'many movie': 2806, 'film review': 1695, 'filmmaker': 1706, 'magical': 2755, 'cleverly': 830, 'intellectual': 2355, 'realm': 3738, 'iq': 2394, 'conservative': 948, 'force': 1787, 'actual': 185, 'insufficient': 2351, 'embodiment': 1400, 'respect': 3853, 'realize': 3723, 'controlled': 977, 'suppressed': 4514, 'factor': 1562, 'emphasize': 1405, 'selfish': 4081, 'economic': 1368, 'interest': 2367, 'cooperation': 989, 'unreasonable': 4905, 'outsider': 3166, 'contradictory': 970, 'embarrassing': 1398, 'innocence': 2334, 'fundamental': 1868, 'understandable': 4877, 'responsibility': 3857, 'childlike': 782, 'survive': 4524, 'intelligent': 2357, 'distinctive': 1261, 'worship': 5183, 'obstacle': 3085, 'weakness': 5086, 'winner': 5136, 'embarrassment': 1399, '39 film': 71, 'like movie': 2606, 'story structure': 4433, 'right wrong': 3906, 'live life': 2648, 'group people': 2030, 'last moment': 2507, 'real life': 3718, 'people play': 3259, 'elf': 1391, 'hostel': 2222, 'christmas': 806, 'adam': 187, 'kept': 2447, 'resource': 3852, 'demon': 1167, 'count': 999, 'vampire': 4929, 'dracula': 1298, 'invisible': 2390, 'werewolf': 5106, 'frankenstein': 1826, 'niece': 3045, 'castle': 704, 'birthday': 524, 'twilight': 4839, 'acceptance': 159, 'laughter': 2520, 'vivid': 4967, 'affection': 210, 'connotation': 943, 'animated': 291, 'learning': 2537, 'quot elf': 3584, 'elf hostel': 1392, 'hostel quot': 2223, 'comedy film': 879, 'masterpiece quot': 2829, 'cry quot': 1057, 'family quot': 1586, 'subject matter': 4472, 'story character': 4426, 'child also': 779, 'quot although': 3553, 'vampire dracula': 4930, 'let daughter': 2561, 'people look': 3253, 'although story': 261, '3d effect': 132, '39 love': 94, 'animated film': 292, 'film want': 1702, 'quot ghost': 3596, 'oscar': 3156, 'nominated': 3054, 'globe': 1933, 'british': 610, 'upstairs': 4914, 'recognized': 3753, 'adaptation': 188, 'intertwined': 2377, 'servant': 4102, 'sneaked': 4266, 'sympathy': 4553, 'capable': 684, 'whisper': 5115, 'winning': 5137, 'nomination': 3055, 'fame': 1579, 'hometown': 2205, 'satisfactory': 3993, 'clothing': 844, 'mentioning': 2870, 'swept': 4546, 'supporting': 4510, 'oscar best': 3157, 'golden globe': 1953, 'best film': 495, 'film best': 1663, 'best director': 494, 'feature film': 1618, 'male female': 2784, 'large number': 2502, 'second half': 4054, 'half film': 2097, 'point film': 3367, 'ha given': 2069, 'quot old': 3633, 'old lady': 3104, 'award best': 400, 'although film': 256, 'worth mentioning': 5186, 'best supporting': 496, 'supporting actress': 4511, 'impulse': 2295, 'trust': 4820, 'exciting': 1508, 'watching film': 5077, 'bird 39': 522, 'wa still': 5017, 'waited': 5030, 'tucao': 4825, 'fist': 1742, 'abuse': 157, 'shaking': 4127, 'thrill': 4688, 'subtle': 4477, 'spit': 4343, 'method': 2885, 'speaking': 4321, 'sadness': 3968, 'drama wa': 1307, 'one love': 3118, 'line quot': 2629, 'time watched': 4727, 'female lord': 1633, 'tv drama': 4834, 'female master': 1634, 'fact think': 1561, 'male master': 2786, 'everyone see': 1488, 'man ha': 2791, 'determination': 1201, 'hammer': 2103, 'reference': 3767, 'necessarily': 3011, 'expressed': 1537, 'breakthrough': 597, 'consciously': 945, 'enhance': 1426, 'distinguish': 1262, 'jumping': 2439, 'deepening': 1135, 'involved': 2393, 'plan': 3338, 'possible': 3396, 'arrival': 339, 'operation': 3133, 'follows': 1771, 'scientific': 4033, 'think way': 4666, 'time look': 4716, 'quot happy': 3603, 'book also': 563, 'survival': 4523, 'prestige': 3431, 'bullet': 638, 'idol': 2262, 'motif': 2943, 'returned': 3878, 'asking': 355, 'defeated': 1141, 'despair': 1188, 'brilliant': 606, 'recovered': 3762, 'destiny': 1193, 'resident': 3846, 'film least': 1684, 'think wa': 4665, 'hero 39': 2163, 'quot man': 3623, 'finally found': 1710, 'older': 3107, 'lingering': 2631, 'rescue': 3840, 'advertisement': 205, 'estimated': 1463, 'security': 4061, 'dismissed': 1254, 'viewer': 4950, 'spy': 4353, 'promote': 3478, 'lyrical': 2744, 'storytelling': 4437, 'whenever': 5111, 'mentally': 2867, 'taiwanese': 4559, 'climax': 832, 'dared': 1094, 'jiahui': 2418, 'trained': 4785, 'horrible': 2215, 'fought': 1813, 'putting': 3523, 'generally': 1890, 'screamed': 4038, 'felt wa': 1630, 'film really': 1694, 'american drama': 275, 'drama quot': 1306, 'come quot': 876, 'film feel': 1675, 'quot even': 3586, 'small fresh': 4248, 'also think': 251, 'young people': 5243, 'world 39': 5174, 'first half': 1728, '39 play': 107, 'philosophy': 3303, 'industry': 2313, 'composition': 916, 'pressed': 3429, 'resist': 3847, 'destroyed': 1195, 'helplessness': 2160, 'absurd': 155, 'creating': 1028, 'dramatic': 1308, 'effective': 1376, 'humanistic': 2239, 'happens': 2117, 'exception': 1503, 'organ': 3149, 'transition': 4790, 'dong': 1290, 'carefully': 695, 'planned': 3341, 'marked': 2815, 'ideology': 2260, 'greater': 2016, 'rude': 3946, 'film industry': 1682, 'one ha': 3113, '39 move': 100, 'quot undoubtedly': 3666, 'shooting technique': 4156, '39 eye': 64, 'give audience': 1923, 'relationship character': 3791, 'time space': 4722, 'quot second': 3645, 'period time': 3284, 'history film': 2188, 'one person': 3120, 'seen quot': 4077, 'always make': 267, 'occupy': 3091, 'qualified': 3529, 'push': 3519, 'romance': 3930, 'sacred': 3964, 'unexpectedly': 4883, 'everywhere': 1491, 'avatar': 392, 'represents': 3835, 'normal person': 3060, 'big breast': 508, 'get used': 1909, 'advancing': 201, 'throw': 4694, 'stranger': 4441, 'rolling': 3929, 'phenomenon': 3301, 'string': 4450, 'depth': 1177, 'instant': 2346, 'heartfelt': 2147, 'shackle': 4122, 'unlucky': 4901, 'facing': 1555, 'suffering': 4490, 'affect': 209, 'passage': 3211, 'treatment': 4799, 'needle': 3017, 'minimum': 2901, 'fortune': 1811, 'attraction': 377, 'flow': 1761, 'faded': 1564, 'swallowed': 4532, 'vain': 4926, 'accurate': 168, 'endure': 1418, 'say anything': 4013, 'situation quot': 4224, 'female student': 1638, 'life two': 2588, 'matter whether': 2835, 'good bad': 1962, 'must know': 2987, 'nowadays': 3074, 'brilliance': 605, 'ii': 2266, 'bai': 422, 'qi': 3525, 'otaku': 3158, 'xiaoyu': 5208, 'mi': 2889, 'virtual': 4961, 'transfer': 4787, 'romeo': 3932, 'juliet': 2436, 'attended': 372, 'dress': 1311, 'shouted': 4167, 'smashed': 4251, 'harvest': 2132, '33': 44, 'seattle': 4051, 'frequent': 1831, 'mad': 2746, 'stalingrad': 4368, 'continued': 966, 'relying': 3807, 'adventure': 204, 'commercial film': 889, 'single day': 4211, 'ha three': 2088, 'wa obviously': 5008, 'handsome men': 2110, 'shouted quot': 4168, 'love comedy': 2704, 'day quot': 1106, 'youth quot': 5248, 'golden shell': 1955, 'quot city': 3572, 'quot true': 3662, 'hiding': 2173, 'plane': 3339, 'flying': 1765, 'debate': 1116, 'several people': 4116, 'young girl': 5240, 'could see': 998, 'director ha': 1235, 'film festival': 1676, '39 mind': 98, 'brother sister': 618, 'let audience': 2560, 'suddenly realized': 4487, 'story one': 4429, 'dull': 1331, 'piano': 3311, 'solved': 4285, 'spoiler': 4346, 'regard': 3781, 'pregnant': 3417, 'rainy': 3685, 'beaten': 457, 'sharp': 4136, 'musician': 2983, 'useful': 4920, 'relevant': 3800, 'accidentally': 163, 'coincidence': 856, 'defense': 1143, 'attract': 375, 'handling': 2107, 'pursued': 3516, 'incomprehensible': 2302, 'pursuing': 3517, 'brush': 625, 'also called': 240, 'protect daughter': 3493, 'wa discovered': 4993, 'twenty year': 4838, 'high iq': 2177, 'step step': 4396, 'wa thinking': 5020, 'entire film': 1442, 'like watch': 2615, 'advantage disadvantage': 203, 'annual': 294, 'performing': 3281, 'storm': 4423, 'swallow': 4531, 'rational': 3698, 'confusion': 940, 'fantasy': 1591, 'staged': 4365, 'inadvertently': 2297, 'preparation': 3421, 'shaping': 4133, 'provides': 3499, 'essence': 1459, 'instrument': 2350, 'node': 3052, 'suspenseful': 4529, 'carry': 699, 'youthful': 5249, 'school student': 4030, 'book written': 568, 'life experience': 2581, 'lacking': 2492, 'fault': 1613, 'ignorant': 2263, 'vigorous': 4954, 'increase': 2303, 'failed': 1565, 'movie character': 2956, 'dark side': 1096, 'story ha': 4428, 'selling point': 4084, 'character 39': 740, 'quot focus': 3594, 'good job': 1972, 'count dracula': 1000, 'dracula 39': 1299, 'kind quot': 2460, '39 family': 66, '39 emotion': 60, 'still difficult': 4404, 'background story': 409, 'story film': 4427, 'illusion': 2269, 'appears': 315, 'jonathan': 2429, 'protection': 3494, 'mentality': 2866, 'halloween': 2101, 'confidence': 934, 'exposure': 1535, 'sincerity': 4205, 'daddy': 1084, 'blockbuster': 544, 'city 39': 813, '39 change': 53, 'invisible people': 2391, 'first sight': 1732, 'ha gradually': 2072, 'true feeling': 4818, 'wa finally': 4995, 'quot course': 3575, 'evil spirit': 1494, 'quot daddy': 3579, 'traditional chinese': 4780, 'quot father': 3588, 'troubled': 4816, 'revealing': 3882, 'invasion': 2385, 'mutual': 2989, 'comrade': 920, 'civilian': 817, 'dai': 1086, 'superb': 4505, 'unable': 4868, 'prevent': 3436, 'cure': 1067, 'touching': 4768, 'ruthless': 3962, 'entanglement': 1433, 'opponent': 3135, 'curtain': 1075, 'rigorous': 3910, 'peasant': 3235, 'attacked': 369, 'shown': 4173, 'multiple': 2973, 'comparable': 899, 'relief': 3803, 'imperial': 2279, 'emerged': 1401, 'potential': 3403, 'within': 5142, 'war scene': 5063, 'people quot': 3260, 'film especially': 1672, 'quot end': 3585, 'wa forced': 4997, 'person want': 3291, 'sorrow sorrow': 4296, 'qing dynasty': 3528, 'ha caused': 2061, 'time quot': 4719, 'history quot': 2189, 'end world': 1414, 'platform': 3344, 'research': 3842, 'fragile': 1820, 'foundation': 1815, 'explanation': 1530, 'inspiring': 2345, 'sloppy': 4240, 'slot': 4241, 'inexplicably': 2318, 'association': 361, 'tool': 4755, 'electric': 1387, 'year wa': 5228, 'recover': 3761, 'heartbeat': 2146, 'stunned': 4465, 'jump': 2437, 'picking': 3314, 'weird': 5099, 'brings': 609, 'viewing': 4951, 'movement': 2952, 'enjoyable': 1428, 'love first': 2709, 'heroine 39': 2167, 'female protagonist': 1636, '39 father': 68, 'type film': 4861, 'film full': 1679, 'line movie': 2628, 'movie plot': 2961, 'film seems': 1696, 'quite satisfactory': 3547, 'supporting role': 4512, 'quot twilight': 3664, 'look awkward': 2674, 'uniqueness': 4893, 'wound': 5192, 'entirely': 1443, 'struggling': 4457, 'decisive': 1125, 'breaking': 596, 'constraint': 957, 'faced': 1554, 'jealousy': 2414, 'intimate': 2379, 'knew wa': 2467, 'wa going': 5000, 'worried': 5180, 'coach': 847, 'championship': 728, 'fourth': 1818, 'two hour': 4848, 'result wa': 3874, 'shen': 4145, 'unhappy': 4887, 'covered': 1016, 'belongs': 486, 'grew': 2022, 'exist': 1513, 'numb': 3076, 'depressed': 1175, 'accepting': 161, '39 bear': 49, 'although 39': 255, 'imax': 2275, 'duel': 1330, 'ke': 2444, 'insisted': 2341, 'paying': 3231, 'film kind': 1683, 'million': 2896, 'soviet': 4311, 'excessive': 1504, 'anxious': 304, 'land': 2497, 'poetic': 3364, 'danger': 1091, 'kajia': 2443, 'soap': 4271, 'guard': 2041, 'epic': 1446, 'accurately': 169, 'gloomy': 1934, 'poetry': 3365, 'battle stalingrad': 451, 'battle film': 450, 'quot stalingrad': 3650, 'stalingrad quot': 4369, 'love two': 2721, 'hollywood film': 2201, 'completely different': 911, 'cruelty war': 1053, 'soviet soldier': 4312, 'german officer': 1900, 'war war': 5064, 'war film': 5059, 'shu': 4177, 'arm': 328, 'peek': 3237, 'film critic': 1669, 'hearing': 2141, 'attacking': 370, 'worker': 5170, 'answering': 301, 'performed': 3280, 'poem': 3363, 'love ha': 2710, 'release': 3798, 'thirteen': 4670, 'experienced': 1524, 'path': 3223, 'popularity': 3381, 'depicting': 1172, 'dig': 1221, 'unpredictable': 4904, 'argument': 327, 'grievance': 2024, 'intentionally': 2364, 'chooses': 800, 'indirect': 2308, 'unconsciously': 4874, 'temptation': 4621, 'gu': 2039, 'salvation': 3984, 'unintentionally': 4890, 'feminist': 1639, 'heroic': 2165, 'task': 4579, '39 word': 128, 'good story': 1988, 'protagonist 39': 3489, 'male character': 2783, 'intentionally unintentionally': 2365, 'title quot': 4733, 'main character': 2760, 'play quot': 3346, 'quot death': 3581, 'urban': 4915, 'swaying': 4533, 'forbidden': 1786, 'righteous': 3907, 'vitality': 4966, 'voice': 4969, 'consideration': 950, 'covering': 1017, 'boss': 574, 'moreover': 2935, 'portrayal': 3387, 'necessity': 3013, 'conveys': 981, 'although ha': 257, 'also made': 244, '39 famous': 67, 'sense quot': 4088, '39 role': 111, 'pay tribute': 3230, 'part film': 3202, 'director want': 1236, 'father love': 1606, 'said film': 3972, 'positive energy': 3393, 'precisely': 3414, 'hide': 2172, 'talked': 4571, 'residence': 3845, 'ridiculed': 3901, 'channel': 734, 'autumn': 390, 'painter': 3180, 'cautious': 712, 'imagine': 2273, 'collision': 866, 'avoided': 397, 'ten thousand': 4624, 'eye others': 1552, 'quot best': 3563, 'kind life': 2456, 'life also': 2577, 'quot boy': 3568, 'insist': 2340, 'exhausted': 1512, 'finger': 1717, 'relied': 3802, 'senior': 4086, 'trouble': 4815, 'essential': 1460, 'title book': 4732, 'quot play': 3637, 'biggest feature': 516, 'love like': 2712, 'russia': 3957, 'bundarchuk': 640, 'crossing': 1048, 'stalin': 4367, 'landing': 2498, 'warfare': 5065, 'aircraft': 222, 'military': 2894, 'profit': 3471, 'princess': 3452, 'blessed': 539, 'bath': 447, 'respective': 3854, 'sniper': 4267, 'dirty': 1237, 'flame': 1748, 'fired': 1722, 'chilling': 785, 'favor': 1614, 'restrained': 3871, 'ryan': 3963, 'german soldier': 1901, 'quot ninth': 3631, 'pure love': 3511, 'russian girl': 3960, 'narrative rhythm': 2999, 'russian soldier': 3961, 'literature art': 2638, 'russian film': 3959, 'glimpse': 1931, 'aggression': 216, 'nanjing': 2996, 'committed': 892, 'troop': 4814, 'battlefield': 452, 'frustrated': 1858, 'special force': 4325, 'world war': 5179, 'television work': 4612, 'war ii': 5061, 'quot show': 3648, 'way love': 5083, 'love 39': 2701, 'quot never': 3629, '39 let': 89, 'man 39': 2790, 'enters': 1438, 'promise': 3477, 'complained': 906, 'existed': 1514, 'grave': 2011, 'wa lost': 5007, 'working hard': 5172, 'wa difficult': 4992, 'limitation': 2621, 'naked': 2992, 'erotic': 1453, 'stream': 4445, 'lie': 2574, 'unprecedented': 4903, 'vision': 4963, 'ignore': 2264, 'duty': 1334, 'veil': 4940, 'observe': 3083, 'speculate': 4328, 'ups': 4913, 'film always': 1662, 'whole story': 5123, 'film whether': 1703, 'detail film': 1198, 'small detail': 4247, 'yao': 5217, 'noisy': 3053, 'paved': 3226, 'passionate': 3216, 'cultivate': 1060, 'doe love': 1276, 'turn around': 4829, 'treasure': 4796, 'spell': 4332, 'integration': 2354, 'tang': 4576, 'expectation': 1519, 'colleague': 860, 'compromise': 918, 'quot great': 3601, 'parent 39': 3195, '39 stand': 117, 'chapter': 738, 'processing': 3462, 'speech': 4330, 'anchor': 283, 'expert': 1527, 'regardless': 3784, 'substitution': 4475, 'prince': 3451, 'much possible': 2971, 'makeup': 2780, 'styling': 4469, 'ultimately': 4867, 'unparalleled': 4902, 'premise': 3420, 'meng': 2863, 'deceased': 1119, 'limb': 2618, 'contribute': 973, 'messy': 2881, 'considering': 952, 'di': 1208, 'resonance': 3850, 'say film': 4014, 'girl ha': 1918, 'communication': 895, 'destruction': 1196, 'regarding': 3783, 'smoothly': 4261, 'novel quot': 3071, 'generation quot': 1892, 'main body': 2759, 'man love': 2792, 'world people': 5176, 'year even': 5222, 'dubbing': 1327, 'bai fumei': 423, 'end film': 1411, 'world ha': 5175, 'worth seeing': 5188, 'schwarzenegger': 4031, 'veteran': 4943, 'film first': 1678, 'film although': 1661, 'beneficial': 488, 'telling story': 4617, 'tell truth': 4615, 'disgusting': 1250, 'deceived': 1120, 'fool': 1784, 'pursue': 3515, 'love time': 2720, 'life even': 2580, 'bitterness': 531, 'gong': 1958, 'mother quot': 2941, 'quot golden': 3599, 'woman love': 5153, 'secondly': 4057, 'budget': 632, 'policy': 3374, 'execution': 1510, 'liberation': 2570, 'torrent': 4763, 'narration': 2997, 'boxing': 584, 'thief': 4650, 'length': 2554, 'bloody battle': 548, 'roommate': 3934, 'dedicated': 1131, 'contributed': 974, 'abnormal': 150, 'publicity': 3504, 'reliable': 3801, 'inferiority': 2321, 'illness': 2268, 'poverty': 3404, 'homework': 2206, 'sister wa': 4217, 'like many': 2605, 'mental illness': 2865, 'plot film': 3359, 'feeling quot': 1625, 'arrangement': 337, 'bruce': 623, 'lee': 2542, 'kung fu': 2488, '1990s': 19, 'economy': 1369, 'campus': 679, 'inseparable': 2336, 'remote': 3818, 'infinitely': 2323, 'ha turned': 2089, 'rich second': 3897, 'matter many': 2834, 'sichuan': 4180, 'ah': 220, 'secondary': 4056, 'gunfire': 2050, 'lu': 2736, 'fire quot': 1721, '39 character': 54, 'character film': 742, 'ha quot': 2083, 'quot three': 3660, 'female character': 1632, 'want take': 5053, 'manuscript': 2801, 'grounded': 2028, 'route': 3942, 'eighth': 1383, 'anxiety': 303, 'cycle': 1079, 'adjustment': 194, 'small amount': 4246, 'civilization': 818, 'jie': 2420, 'hu': 2232, 'mao': 2813, 'villager': 4957, 'sings': 4213, 'dispute': 1258, 'prejudice': 3418, 'speculation': 4329, 'squat': 4356, 'parallel': 3193, 'throat': 4691, 'loving': 2727, 'quot said': 3642, 'quot let': 3613, 'ha done': 2066, 'action film': 178, 'husband wife': 2252, 'came back': 676, 'time two': 4725, 'subversive': 4478, 'infinite': 2322, 'turning': 4832, 'superman': 4508, 'constant': 955, 'quot audience': 3558, '39 strong': 119, 'sick': 4181, 'asleep': 357, 'spectator': 4327, 'old people': 3106, 'inexplicable': 2317, 'interaction': 2366, 'search': 4047, 'show quot': 4170, 'shed tear': 4138, 'heart wa': 2145, '39 even': 61, 'mark': 2814, 'retreat': 3875, 'buddha': 629, 'symbolic': 4552, 'ago quot': 218, 'jungle': 2440, 'eroticism': 1454, 'muscle': 2980, 'judging': 2433, 'tribe': 4805, 'interspersed': 2376, 'conspiracy': 954, 'remarkable': 3809, 'mu': 2965, 'quot iron': 3607, 'death squad': 1115, 'squad quot': 4355, 'flesh blood': 1756, 'play role': 3347, 'rotten': 3939, 'melody': 2857, 'invincible': 2389, 'invest': 2386, 'ring': 3911, 'dangerous': 1092, 'assembly': 360, 'cast': 703, 'collapsed': 859, 'stock': 4414, 'lineup': 2630, 'quot fire': 3591, 'ha added': 2054, 'quot war': 3673, 'quot starring': 3651, 'money quot': 2928, 'although quot': 259, 'quot beijing': 3562, 'quot wang': 3671, 'cultural revolution': 1063, 'bad film': 412, 'big money': 511, 'film look': 1686, 'wa completely': 4990, 'quot director': 3582, 'wa actually': 4977, 'hollywood blockbuster': 2200, 'trick quot': 4808, 'loki': 2665, 'robbed': 3921, 'max': 2838, 'universe': 4897, 'cried': 1036, 'arrested': 338, 'queen': 3534, 'happily': 2118, 'raging': 3683, 'raytheon': 3703, 'immersed': 2277, 'struggled': 4456, 'throne': 4692, 'movie wa': 2963, 'bad guy': 413, 'wa destroyed': 4991, 'father son': 1608, 'phoenix': 3304, 'xia': 5205, 'shaped': 4132, 'ha one': 2081, 'harsh': 2131, 'sturdy': 4467, 'opera': 3132, 'taiwan': 4558, 'alien': 224, 'grief': 2023, 'golden horse': 1954, 'engage': 1423, 'neon': 3022, 'sand': 3986, 'pocket': 3362, 'passing': 3214, 'foreshadowing': 1794, 'volga': 4970, 'hardship': 2127, 'launch': 2521, 'lao': 2500, 'zheng': 5262, 'shaken': 4126, 'rooted': 3936, 'scope': 4035, 'union': 4891, 'people kind': 3249, 'volga river': 4971, 'german army': 1899, 'high degree': 2175, 'soviet union': 4313, 'want talk': 5054, 'time feel': 4709, 'even 39': 1472, 'still want': 4409, 'cao': 683, 'paris': 3196, 'wisdom': 5139, 'sport': 4348, 'severe': 4118, 'pit': 3328, 'transparent': 4792, 'betrayed': 500, 'salary': 3977, 'participate': 3204, 'reform': 3774, 'countryside': 1005, 'danced': 1090, 'lick': 2572, 'collective': 862, 'bother': 575, 'internet': 2373, 'november': 3073, 'exaggeration': 1497, 'expressing': 1538, 'classical': 823, 'confident': 935, 'father wa': 1609, '39 book': 52, 'wa taken': 5019, 'committed suicide': 893, 'people must': 3257, 'ha experienced': 2067, 'wa able': 4976, '30 year': 42, 'stay away': 4389, 'country quot': 1004, 'eight year': 1382, 'wa looking': 5006, 'quot little': 3616, 'work quot': 5167, 'quot woman': 3675, 'grows': 2034, 'bald': 429, 'chai': 723, 'story tell': 4434, 'author ha': 388, 'situation wa': 4225, 'david': 1102, 'player': 3350, 'armed': 329, 'dissatisfied': 1259, 'force quot': 1788, 'two actor': 4843, 'war ha': 5060, 'iron man': 2396, 'brave': 592, 'smog': 4256, 'manifestation': 2798, 'kahn': 2442, 'citizen': 811, 'desperation': 1190, 'swearing': 4535, 'love men': 2714, 'love film': 2708, 'resolutely': 3849, 'shelling': 4143, 'viewing experience': 4952, 'helping': 2158, 'whoever': 5117, 'cheated': 755, 'sacrificed': 3966, 'outline': 3162, 'shared': 4135, 'process watching': 3461, 'obtain': 3086, 'sorrowful': 4297, 'swollen': 4549, 'wa burned': 4986, 'female star': 1637, 'tangled': 4577, 'piece film': 3319, 'quot high': 3604, 'version quot': 4942, 'ha great': 2073, 'glamorous': 1928, 'composed': 915, 'perfection': 3276, 'hug': 2234, 'reading book': 3714, 'book 39': 562, 'comprehensive': 917, 'observation': 3082, 'carrier': 697, 'biography': 519, 'render': 3823, 'perception': 3274, 'metaphor': 2883, 'politics': 3376, 'criticized': 1045, 'motion': 2944, 'one important': 3115, 'climax film': 833, 'film doe': 1671, 'look feel': 2676, 'cave': 713, 'crack': 1022, 'hollywood 39': 2199, 'partially': 3203, 'blank': 536, 'film quite': 1692, 'loyal': 2730, 'family also': 1582, 'man wa': 2794, 'wa already': 4980, 'arbitrarily': 325, 'diary': 1210, 'ambiguous': 271, 'temporarily': 4620, 'generous': 1893, 'elder': 1385, 'harmonious': 2129, 'inspirational': 2343, 'toilet': 4742, 'little time': 2645, 'love movie': 2715, '39 worry': 130, '39 pursuit': 108, 'satisfy': 3995, 'happy ending': 2121, 'nowhere': 3075, 'colored': 868, 'tv show': 4836, 'another point': 298, 'examination': 1498, 'largest': 2504, 'elderly': 1386, 'abundant': 156, 'terror': 4632, 'horror movie': 2218, 'also want': 252, 'absorbed': 154, 'scientist': 4034, 'popcorn': 3379, 'avoiding': 398, 'stability': 4360, 'toward': 4772, 'blast': 537, 'quot always': 3554, 'biggest problem': 517, 'wa happy': 5002, 'two country': 4844, 'fund': 1867, 'quot real': 3639, 'living environment': 2655, 'handsome guy': 2109, 'stallone': 4371, 'jailbreak': 2408, 'mass': 2826, 'shield': 4147, 'wit': 5141, 'golden shelling': 1956, 'shelling quot': 4144, 'two tough': 4855, 'shell quot': 4142, 'quot male': 3622, 'reflects': 3773, 'douban': 1293, 'civil': 816, 'fulfilled': 1861, 'book wa': 567, 'primitive': 3450, 'policeman': 3373, 'bottom line': 578, 'always thought': 269, 'next second': 3040, 'wa called': 4988, 'next one': 3039, 'regained': 3780, 'trivial': 4813, 'loser': 2690, 'upright': 4912, 'get good': 1905, 'gathering': 1885, 'implemented': 2280, 'sanction': 3985, 'hollywood movie': 2202, 'movie also': 2955, 'patient': 3224, 'shadow quot': 4124, 'repeated': 3827, 'really easy': 3729, 'behind scene': 479, 'removed': 3820, 'righteousness': 3908, 'man quot': 2793, 'good person': 1980, 'bad thing': 414, 'girl wa': 1920, 'initiative': 2329, 'moment life': 2925, 'domineering': 1288, 'even love': 1473, 'breath': 599, 'financial': 1712, 'attachment': 367, 'life want': 2590, 'stimulating': 4410, 'art film': 345, 'watch film': 5072, 'film must': 1690, 'negative': 3018, 'lotus': 2699, 'steady': 4391, 'fact many': 1560, 'two world': 4858, 'suddenly felt': 4486, 'kind person': 2459, 'climbed': 834, 'scare': 4021, 'satisfaction': 3992, 'nostalgic': 3064, 'terminator': 4630, 'big bos': 507, 'quot much': 3627, 'deepest': 1137, 'collective memory': 863, 'organization': 3150, 'enterprise': 1437, 'chosen': 805, 'went back': 5105, 'watched movie': 5075, 'magnificent': 2756, 'capture': 687, 'shortage': 4163, 'ear': 1339, 'let people': 2563, 'worked hard': 5169, 'statement': 4384, 'ratio': 3697, 'county': 1006, 'engaged': 1424, 'film character': 1666, 'equivalent': 1451, 'restriction': 3872, 'must first': 2986, 'handle': 2106, 'bid': 505, 'fainted': 1568, 'faster': 1599, 'everyone think': 1489, 'zhiling': 5264, 'lin zhiling': 2625, 'reporter': 3833, 'turned around': 4831, 'hanyu': 2113, 'zhang hanyu': 5260, 'child quot': 780, 'make big': 2771, 'time let': 4714, 'audience watching': 382, 'forgetting': 1798, 'apply': 317, 'want quot': 5050, 'love drama': 2705, 'funeral': 1869, 'buddhism': 630, 'really feel': 3730, 'implicit': 2281, 'triangle': 4804, 'nima': 3048, 'proposal': 3485, 'zhiling 39': 5265, 'hoped': 2213, 'simple simple': 4199, 'prelude': 3419, 'marvel': 2823, 'yusuke': 5256, 'gave birth': 1887, 'hitchcock': 2191}\n",
            "(800, 5272)\n"
          ]
        }
      ],
      "source": [
        "from sklearn.feature_extraction.text import TfidfVectorizer\n",
        "vectorizer = TfidfVectorizer(ngram_range=(1, 2), min_df=5) #include one and two grams and specify minimum document frequency =3\n",
        "vectorizer.fit(tfidf_list) # apply fit method on the list of reviews\n",
        "vectorizer_output = vectorizer.transform(tfidf_list)#apply transform method to generate TD-IDF vales for each of the unique words for each document\n",
        "print(vectorizer_output.toarray()) # convert the output to a 2D array\n",
        "print(vectorizer.vocabulary_) # prints the vocabulary considered for computing tf-idf values\n",
        "print(vectorizer_output.toarray().shape)# prints shape of the array"
      ]
    },
    {
      "cell_type": "markdown",
      "id": "WiQDvBsznia0",
      "metadata": {
        "id": "WiQDvBsznia0"
      },
      "source": [
        "**5. Modeling**\n",
        "\n",
        "**a. Naive Bayes Classifier**"
      ]
    },
    {
      "cell_type": "code",
      "execution_count": 225,
      "id": "FeGanxQ2kvLf",
      "metadata": {
        "colab": {
          "base_uri": "https://localhost:8080/"
        },
        "id": "FeGanxQ2kvLf",
        "outputId": "a0bb30c4-425c-4a1c-ec3e-78bd0e43cfd6"
      },
      "outputs": [
        {
          "name": "stdout",
          "output_type": "stream",
          "text": [
            "Accuracy of Naive Bayes model is:  0.985\n",
            "ROC of Naive Bayes model is:  0.985\n"
          ]
        }
      ],
      "source": [
        "from sklearn.naive_bayes import MultinomialNB\n",
        "from sklearn.metrics import roc_auc_score\n",
        "from sklearn.metrics import accuracy_score\n",
        "classifier_NB = MultinomialNB()\n",
        "classifier_NB.fit(vectorizer_output, labels)\n",
        "X_test=list(df_test['review'])\n",
        "new_X = vectorizer.transform(X_test)\n",
        "predictions_NB = classifier_NB.predict(new_X)\n",
        "print(\"Accuracy of Naive Bayes model is: \",accuracy_score(list(df_test['label']),predictions_NB))\n",
        "print(\"ROC of Naive Bayes model is: \",roc_auc_score(list(df_test['label']),predictions_NB))"
      ]
    },
    {
      "cell_type": "markdown",
      "id": "DtwcMiUXopox",
      "metadata": {
        "id": "DtwcMiUXopox"
      },
      "source": [
        "**b. Logit classification**"
      ]
    },
    {
      "cell_type": "code",
      "execution_count": 226,
      "id": "md6NeX9Sotyp",
      "metadata": {
        "colab": {
          "base_uri": "https://localhost:8080/"
        },
        "id": "md6NeX9Sotyp",
        "outputId": "f2084989-3756-4f3f-cbbf-2c2e3d8f6282"
      },
      "outputs": [
        {
          "name": "stdout",
          "output_type": "stream",
          "text": [
            "Accuracy of logit model is:  0.99\n",
            "ROC of logit model is:  0.99\n"
          ]
        }
      ],
      "source": [
        "from sklearn.linear_model import LogisticRegression\n",
        "from sklearn.metrics import roc_auc_score\n",
        "from sklearn.metrics import accuracy_score\n",
        "classifier_logit = LogisticRegression()\n",
        "classifier_logit.fit(vectorizer_output, labels)\n",
        "X_test=list(df_test['review'])\n",
        "new_X = vectorizer.transform(X_test)\n",
        "predictions_logit = classifier_logit.predict(new_X)\n",
        "print(\"Accuracy of logit model is: \",accuracy_score(list(df_test['label']),predictions_logit))\n",
        "print(\"ROC of logit model is: \",roc_auc_score(list(df_test['label']),predictions_logit))"
      ]
    },
    {
      "cell_type": "markdown",
      "id": "sbXmxvaxqmOv",
      "metadata": {
        "id": "sbXmxvaxqmOv"
      },
      "source": [
        "**c. Random Forest Model**"
      ]
    },
    {
      "cell_type": "code",
      "execution_count": 227,
      "id": "aLjnr4X0qkfo",
      "metadata": {
        "colab": {
          "base_uri": "https://localhost:8080/"
        },
        "id": "aLjnr4X0qkfo",
        "outputId": "aa7aa9c7-1279-4ad6-c8bd-d29e8fa0908c"
      },
      "outputs": [
        {
          "name": "stdout",
          "output_type": "stream",
          "text": [
            "Accuracy of Random forest is:  0.995\n",
            "ROC of Random Forest is:  0.995\n"
          ]
        }
      ],
      "source": [
        "from sklearn.ensemble import RandomForestClassifier\n",
        "from sklearn.metrics import roc_auc_score\n",
        "from sklearn.metrics import accuracy_score\n",
        "classifier_RF = RandomForestClassifier(n_estimators=50)\n",
        "classifier_RF.fit(vectorizer_output, labels)\n",
        "X_test=list(df_test['review'])\n",
        "new_X = vectorizer.transform(X_test)\n",
        "predictions_RF = classifier_RF.predict(new_X)\n",
        "print(\"Accuracy of Random forest is: \",accuracy_score(list(df_test['label']),predictions_RF))\n",
        "print(\"ROC of Random Forest is: \",roc_auc_score(list(df_test['label']),predictions_RF))\n"
      ]
    },
    {
      "cell_type": "markdown",
      "id": "2cbybBKVr6O9",
      "metadata": {
        "id": "2cbybBKVr6O9"
      },
      "source": [
        "**d. Support vector Machine**"
      ]
    },
    {
      "cell_type": "code",
      "execution_count": 228,
      "id": "13-dNv7rot1p",
      "metadata": {
        "colab": {
          "base_uri": "https://localhost:8080/"
        },
        "id": "13-dNv7rot1p",
        "outputId": "4d8ddb05-776a-4268-969c-4f99a2ff1325"
      },
      "outputs": [
        {
          "name": "stdout",
          "output_type": "stream",
          "text": [
            "Accuracy of SVC is:  0.99\n",
            "ROC of SVC is:  0.99\n"
          ]
        }
      ],
      "source": [
        "from sklearn.svm import SVC\n",
        "from sklearn.metrics import roc_auc_score\n",
        "from sklearn.metrics import accuracy_score\n",
        "classifier_SVC = SVC()\n",
        "classifier_SVC.fit(vectorizer_output, labels)\n",
        "X_test=list(df_test['review'])\n",
        "new_X = vectorizer.transform(X_test)\n",
        "predictions_SVC = classifier_SVC.predict(new_X)\n",
        "print(\"Accuracy of SVC is: \",accuracy_score(list(df_test['label']),predictions_SVC))\n",
        "print(\"ROC of SVC is: \",roc_auc_score(list(df_test['label']),predictions_SVC))"
      ]
    },
    {
      "cell_type": "markdown",
      "id": "V2x86PQR_NGF",
      "metadata": {
        "id": "V2x86PQR_NGF"
      },
      "source": [
        "**e. ANN model wiht one hidden layer**"
      ]
    },
    {
      "cell_type": "code",
      "execution_count": 231,
      "id": "HF7JBUVmot99",
      "metadata": {
        "colab": {
          "base_uri": "https://localhost:8080/"
        },
        "id": "HF7JBUVmot99",
        "outputId": "af2e7317-625c-46ec-dfef-dd3029f94d1c"
      },
      "outputs": [
        {
          "name": "stdout",
          "output_type": "stream",
          "text": [
            "Epoch 1/10\n",
            "25/25 [==============================] - 1s 4ms/step - loss: 0.6478 - accuracy: 0.6413\n",
            "Epoch 2/10\n",
            "25/25 [==============================] - 0s 4ms/step - loss: 0.5854 - accuracy: 0.7937\n",
            "Epoch 3/10\n",
            "25/25 [==============================] - 0s 4ms/step - loss: 0.5355 - accuracy: 0.8537\n",
            "Epoch 4/10\n",
            "25/25 [==============================] - 0s 4ms/step - loss: 0.4918 - accuracy: 0.8925\n",
            "Epoch 5/10\n",
            "25/25 [==============================] - 0s 4ms/step - loss: 0.4547 - accuracy: 0.9250\n",
            "Epoch 6/10\n",
            "25/25 [==============================] - 0s 4ms/step - loss: 0.4237 - accuracy: 0.9438\n",
            "Epoch 7/10\n",
            "25/25 [==============================] - 0s 4ms/step - loss: 0.3980 - accuracy: 0.9575\n",
            "Epoch 8/10\n",
            "25/25 [==============================] - 0s 4ms/step - loss: 0.3763 - accuracy: 0.9675\n",
            "Epoch 9/10\n",
            "25/25 [==============================] - 0s 4ms/step - loss: 0.3580 - accuracy: 0.9775\n",
            "Epoch 10/10\n",
            "25/25 [==============================] - 0s 4ms/step - loss: 0.3426 - accuracy: 0.9850\n",
            "7/7 [==============================] - 0s 3ms/step - loss: 0.3595 - accuracy: 0.9050\n",
            "[0.3595365285873413, 0.9049999713897705]\n",
            "7/7 [==============================] - 0s 3ms/step\n",
            "Accuracy of ANN is:  0.905\n",
            "ROC of ANN is:  0.905\n"
          ]
        }
      ],
      "source": [
        "from keras.models import Sequential\n",
        "from keras.layers import Dense\n",
        "from keras.layers import Embedding\n",
        "from keras.layers import Flatten\n",
        "from sklearn.metrics import roc_auc_score\n",
        "from sklearn.metrics import accuracy_score\n",
        "\n",
        "# Create the ANN model\n",
        "model = Sequential()\n",
        "model.add(Dense(4, input_dim=vectorizer_output.shape[1], activation='relu'))\n",
        "model.add(Dense(1, activation='sigmoid'))\n",
        "\n",
        "# Compile and train the model\n",
        "model.compile(optimizer='rmsprop', loss='binary_crossentropy', metrics=['accuracy'])\n",
        "df3=pd.DataFrame(vectorizer_output.toarray())\n",
        "model.fit(df3, df_train['label'], epochs=10, batch_size=32)\n",
        "\n",
        "X_test=list(df_test['review'])\n",
        "new_X = vectorizer.transform(X_test)\n",
        "df4=pd.DataFrame(new_X.toarray())\n",
        "\n",
        "print(model.evaluate(df4,df_test['label']))\n",
        "\n",
        "predictions=model.predict(df4)\n",
        "y_pred=[]\n",
        "for i in predictions:\n",
        "  if i>0.5:\n",
        "    y_pred.append(1)\n",
        "  else:\n",
        "    y_pred.append(0)\n",
        "\n",
        "print(\"Accuracy of ANN is: \",accuracy_score(list(df_test['label']),y_pred))\n",
        "print(\"ROC of ANN is: \",roc_auc_score(list(df_test['label']),y_pred))\n"
      ]
    },
    {
      "cell_type": "markdown",
      "id": "AcjX1-QdAJxL",
      "metadata": {
        "id": "AcjX1-QdAJxL"
      },
      "source": [
        "**6. Index encoding with max_length of 100 padding**\n",
        "\n"
      ]
    },
    {
      "cell_type": "code",
      "execution_count": 235,
      "id": "3-Pc0fzPAVfq",
      "metadata": {
        "id": "3-Pc0fzPAVfq"
      },
      "outputs": [],
      "source": [
        "# Import necessary modules\n",
        "from keras.preprocessing.text import Tokenizer\n",
        "from keras_preprocessing.sequence import pad_sequences\n",
        "\n",
        "# Define the maximum length for the input sequences\n",
        "MAX_LENGTH = 100\n",
        "\n",
        "# Create a tokenizer to map words to integers\n",
        "tokenizer = Tokenizer()\n",
        "\n",
        "# Fit the tokenizer on the documents\n",
        "tokenizer.fit_on_texts(tfidf_list)\n",
        "\n",
        "# Encode the documents using the tokenizer\n",
        "encoded_docs = tokenizer.texts_to_sequences(tfidf_list)\n",
        "\n",
        "# Pad the encoded documents to the maxmimum length\n",
        "padded_docs = pad_sequences(encoded_docs, maxlen=MAX_LENGTH, padding='post')\n"
      ]
    },
    {
      "cell_type": "markdown",
      "id": "wPv3bBDBDyv_",
      "metadata": {
        "id": "wPv3bBDBDyv_"
      },
      "source": [
        "**7. Deep learning model with sequential structure**"
      ]
    },
    {
      "cell_type": "code",
      "execution_count": 261,
      "id": "YDzjcpjiAVlU",
      "metadata": {
        "colab": {
          "base_uri": "https://localhost:8080/"
        },
        "id": "YDzjcpjiAVlU",
        "outputId": "20982fd7-f8aa-4b47-e92f-33dfd5a2bc10"
      },
      "outputs": [
        {
          "name": "stdout",
          "output_type": "stream",
          "text": [
            "Epoch 1/10\n",
            "8/8 [==============================] - 3s 124ms/step - loss: 1.8177 - accuracy: 0.5000\n",
            "Epoch 2/10\n",
            "8/8 [==============================] - 1s 120ms/step - loss: 1.1762 - accuracy: 0.5000\n",
            "Epoch 3/10\n",
            "8/8 [==============================] - 1s 118ms/step - loss: 0.9407 - accuracy: 0.5000\n",
            "Epoch 4/10\n",
            "8/8 [==============================] - 1s 120ms/step - loss: 0.6588 - accuracy: 0.5675\n",
            "Epoch 5/10\n",
            "8/8 [==============================] - 1s 117ms/step - loss: 0.5312 - accuracy: 0.8238\n",
            "Epoch 6/10\n",
            "8/8 [==============================] - 1s 119ms/step - loss: 0.4420 - accuracy: 0.7875\n",
            "Epoch 7/10\n",
            "8/8 [==============================] - 1s 123ms/step - loss: 0.3849 - accuracy: 0.8450\n",
            "Epoch 8/10\n",
            "8/8 [==============================] - 1s 117ms/step - loss: 0.3364 - accuracy: 0.9087\n",
            "Epoch 9/10\n",
            "8/8 [==============================] - 1s 118ms/step - loss: 0.2657 - accuracy: 0.9300\n",
            "Epoch 10/10\n",
            "8/8 [==============================] - 1s 119ms/step - loss: 0.2638 - accuracy: 0.9350\n",
            "7/7 [==============================] - 4s 547ms/step - loss: 7.6246 - accuracy: 0.5000\n",
            "[7.624619007110596, 0.5]\n",
            "7/7 [==============================] - 4s 547ms/step\n",
            "Accuracy of Sequential model is:  0.5\n",
            "ROC of Sequential model is:  0.5\n"
          ]
        }
      ],
      "source": [
        "# Import required libraries\n",
        "import tensorflow as tf\n",
        "from tensorflow.keras.layers import Embedding, LSTM, Dropout, Dense\n",
        "\n",
        "padded=pd.DataFrame(padded_docs)\n",
        "\n",
        "# Define model architecture\n",
        "model = tf.keras.Sequential([\n",
        "    Embedding(input_dim=np.amax(padded_docs)+1,\n",
        "              output_dim=20),\n",
        "    LSTM(40, dropout=0.2, recurrent_dropout=0.2),\n",
        "    Dropout(0.1),\n",
        "    Dense(1)\n",
        "])\n",
        "\n",
        "# Compile the model\n",
        "model.compile(optimizer='adam', loss='binary_crossentropy', metrics=['accuracy'])\n",
        "\n",
        "# Train the model\n",
        "model.fit(padded, df_train['label'], batch_size=100, epochs=10)\n",
        "\n",
        "print(model.evaluate(df4,df_test['label']))\n",
        "predictions_LSTM=model.predict(df4)\n",
        "y_pred=[]\n",
        "for i in predictions_LSTM:\n",
        "  if i>0.5:\n",
        "    y_pred.append(1)\n",
        "  else:\n",
        "    y_pred.append(0)\n",
        "\n",
        "print(\"Accuracy of Sequential model is: \",accuracy_score(list(df_test['label']),y_pred))\n",
        "print(\"ROC of Sequential model is: \",roc_auc_score(list(df_test['label']),y_pred))\n"
      ]
    }
  ],
  "metadata": {
    "colab": {
      "provenance": []
    },
    "kernelspec": {
      "display_name": "Python 3 (ipykernel)",
      "language": "python",
      "name": "python3"
    },
    "language_info": {
      "codemirror_mode": {
        "name": "ipython",
        "version": 3
      },
      "file_extension": ".py",
      "mimetype": "text/x-python",
      "name": "python",
      "nbconvert_exporter": "python",
      "pygments_lexer": "ipython3",
      "version": "3.9.12"
    }
  },
  "nbformat": 4,
  "nbformat_minor": 5
}
